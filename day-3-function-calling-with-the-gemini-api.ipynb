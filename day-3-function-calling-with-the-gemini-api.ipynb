{
 "cells": [
  {
   "cell_type": "markdown",
   "id": "41e4522f",
   "metadata": {
    "id": "b6e13eef3f5d",
    "papermill": {
     "duration": 0.014677,
     "end_time": "2024-11-17T17:40:08.032396",
     "exception": false,
     "start_time": "2024-11-17T17:40:08.017719",
     "status": "completed"
    },
    "tags": []
   },
   "source": [
    "##### Copyright 2024 Google LLC."
   ]
  },
  {
   "cell_type": "code",
   "execution_count": 1,
   "id": "9d20462e",
   "metadata": {
    "cellView": "form",
    "execution": {
     "iopub.execute_input": "2024-11-17T17:40:08.056758Z",
     "iopub.status.busy": "2024-11-17T17:40:08.055673Z",
     "iopub.status.idle": "2024-11-17T17:40:08.062912Z",
     "shell.execute_reply": "2024-11-17T17:40:08.061779Z"
    },
    "id": "d6597b11df14",
    "jupyter": {
     "source_hidden": true
    },
    "papermill": {
     "duration": 0.02146,
     "end_time": "2024-11-17T17:40:08.065539",
     "exception": false,
     "start_time": "2024-11-17T17:40:08.044079",
     "status": "completed"
    },
    "tags": []
   },
   "outputs": [],
   "source": [
    "# @title Licensed under the Apache License, Version 2.0 (the \"License\");\n",
    "# you may not use this file except in compliance with the License.\n",
    "# You may obtain a copy of the License at\n",
    "#\n",
    "# https://www.apache.org/licenses/LICENSE-2.0\n",
    "#\n",
    "# Unless required by applicable law or agreed to in writing, software\n",
    "# distributed under the License is distributed on an \"AS IS\" BASIS,\n",
    "# WITHOUT WARRANTIES OR CONDITIONS OF ANY KIND, either express or implied.\n",
    "# See the License for the specific language governing permissions and\n",
    "# limitations under the License."
   ]
  },
  {
   "cell_type": "markdown",
   "id": "fa2193b5",
   "metadata": {
    "id": "4a7d3bb68371",
    "papermill": {
     "duration": 0.009995,
     "end_time": "2024-11-17T17:40:08.085982",
     "exception": false,
     "start_time": "2024-11-17T17:40:08.075987",
     "status": "completed"
    },
    "tags": []
   },
   "source": [
    "# Day 3 - Function calling with the Gemini API\n",
    "\n",
    "Welcome back to the Kaggle 5-day Generative AI course!\n",
    "\n",
    "In this notebook, you will use the Gemini API's automatic function calling to build a chat interface over a local database. This example is a toy and is missing a number of safety and security constraints you would use in a real-world example.\n",
    "\n",
    "## For help\n",
    "\n",
    "**Common issues are covered in the [FAQ and troubleshooting guide](https://www.kaggle.com/code/markishere/day-0-troubleshooting-and-faqs).**"
   ]
  },
  {
   "cell_type": "markdown",
   "id": "3bff6df2",
   "metadata": {
    "id": "ea197d1d464f",
    "papermill": {
     "duration": 0.009804,
     "end_time": "2024-11-17T17:40:08.105739",
     "exception": false,
     "start_time": "2024-11-17T17:40:08.095935",
     "status": "completed"
    },
    "tags": []
   },
   "source": [
    "## Setup\n",
    "\n",
    "Start by installing and importing the Python SDK."
   ]
  },
  {
   "cell_type": "code",
   "execution_count": 2,
   "id": "ac6df17b",
   "metadata": {
    "execution": {
     "iopub.execute_input": "2024-11-17T17:40:08.129858Z",
     "iopub.status.busy": "2024-11-17T17:40:08.129467Z",
     "iopub.status.idle": "2024-11-17T17:40:39.951793Z",
     "shell.execute_reply": "2024-11-17T17:40:39.950102Z"
    },
    "id": "a24f42e469df",
    "papermill": {
     "duration": 31.847109,
     "end_time": "2024-11-17T17:40:39.963557",
     "exception": false,
     "start_time": "2024-11-17T17:40:08.116448",
     "status": "completed"
    },
    "tags": []
   },
   "outputs": [
    {
     "name": "stdout",
     "output_type": "stream",
     "text": [
      "Note: you may need to restart the kernel to use updated packages.\n"
     ]
    }
   ],
   "source": [
    "%pip install -q -U 'google-generativeai>=0.8.3'"
   ]
  },
  {
   "cell_type": "code",
   "execution_count": 3,
   "id": "ef67b03f",
   "metadata": {
    "execution": {
     "iopub.execute_input": "2024-11-17T17:40:39.986042Z",
     "iopub.status.busy": "2024-11-17T17:40:39.985576Z",
     "iopub.status.idle": "2024-11-17T17:40:41.170831Z",
     "shell.execute_reply": "2024-11-17T17:40:41.169659Z"
    },
    "id": "02bb0f551e25",
    "papermill": {
     "duration": 1.200163,
     "end_time": "2024-11-17T17:40:41.173816",
     "exception": false,
     "start_time": "2024-11-17T17:40:39.973653",
     "status": "completed"
    },
    "tags": []
   },
   "outputs": [],
   "source": [
    "import google.generativeai as genai"
   ]
  },
  {
   "cell_type": "markdown",
   "id": "5a5c3c5f",
   "metadata": {
    "id": "90e83cddff61",
    "papermill": {
     "duration": 0.009849,
     "end_time": "2024-11-17T17:40:41.193826",
     "exception": false,
     "start_time": "2024-11-17T17:40:41.183977",
     "status": "completed"
    },
    "tags": []
   },
   "source": [
    "### Set up your API key\n",
    "\n",
    "To run the following cell, your API key must be stored it in a [Kaggle secret](https://www.kaggle.com/discussions/product-feedback/114053) named `GOOGLE_API_KEY`.\n",
    "\n",
    "If you don't already have an API key, you can grab one from [AI Studio](https://aistudio.google.com/app/apikey). You can find [detailed instructions in the docs](https://ai.google.dev/gemini-api/docs/api-key).\n",
    "\n",
    "To make the key available through Kaggle secrets, choose `Secrets` from the `Add-ons` menu and follow the instructions to add your key or enable it for this notebook."
   ]
  },
  {
   "cell_type": "code",
   "execution_count": 4,
   "id": "80f07891",
   "metadata": {
    "execution": {
     "iopub.execute_input": "2024-11-17T17:40:41.216986Z",
     "iopub.status.busy": "2024-11-17T17:40:41.215657Z",
     "iopub.status.idle": "2024-11-17T17:40:41.418911Z",
     "shell.execute_reply": "2024-11-17T17:40:41.417552Z"
    },
    "id": "5cc8325f051d",
    "papermill": {
     "duration": 0.218064,
     "end_time": "2024-11-17T17:40:41.421832",
     "exception": false,
     "start_time": "2024-11-17T17:40:41.203768",
     "status": "completed"
    },
    "tags": []
   },
   "outputs": [],
   "source": [
    "from kaggle_secrets import UserSecretsClient\n",
    "\n",
    "GOOGLE_API_KEY = UserSecretsClient().get_secret(\"GOOGLE_API_KEY\")\n",
    "genai.configure(api_key=GOOGLE_API_KEY)"
   ]
  },
  {
   "cell_type": "markdown",
   "id": "efa97fdf",
   "metadata": {
    "id": "857b6f96eb38",
    "papermill": {
     "duration": 0.010174,
     "end_time": "2024-11-17T17:40:41.442110",
     "exception": false,
     "start_time": "2024-11-17T17:40:41.431936",
     "status": "completed"
    },
    "tags": []
   },
   "source": [
    "If you received an error response along the lines of `No user secrets exist for kernel id ...`, then you need to add your API key via `Add-ons`, `Secrets` **and** enable it.\n",
    "\n",
    "![Screenshot of the checkbox to enable GOOGLE_API_KEY secret](https://storage.googleapis.com/kaggle-media/Images/5gdai_sc_3.png)"
   ]
  },
  {
   "cell_type": "markdown",
   "id": "80feb6a7",
   "metadata": {
    "id": "ed8fc6062c62",
    "papermill": {
     "duration": 0.009469,
     "end_time": "2024-11-17T17:40:41.461748",
     "exception": false,
     "start_time": "2024-11-17T17:40:41.452279",
     "status": "completed"
    },
    "tags": []
   },
   "source": [
    "## Create a local database\n",
    "\n",
    "For this minimal example, you'll create a local SQLite database and add some synthetic data so you have something to query.\n",
    "\n",
    "Load the `sql` IPython extension so you can interact with the database using magic commands (the `%` instructions) to create a new, empty SQLite database."
   ]
  },
  {
   "cell_type": "code",
   "execution_count": 5,
   "id": "865b94ec",
   "metadata": {
    "execution": {
     "iopub.execute_input": "2024-11-17T17:40:41.483558Z",
     "iopub.status.busy": "2024-11-17T17:40:41.483015Z",
     "iopub.status.idle": "2024-11-17T17:40:43.282530Z",
     "shell.execute_reply": "2024-11-17T17:40:43.281371Z"
    },
    "id": "c98a627ef07b",
    "papermill": {
     "duration": 1.814015,
     "end_time": "2024-11-17T17:40:43.285583",
     "exception": false,
     "start_time": "2024-11-17T17:40:41.471568",
     "status": "completed"
    },
    "tags": []
   },
   "outputs": [],
   "source": [
    "%load_ext sql\n",
    "%sql sqlite:///sample.db"
   ]
  },
  {
   "cell_type": "markdown",
   "id": "b164b9a3",
   "metadata": {
    "id": "14e7bc18b8af",
    "papermill": {
     "duration": 0.009689,
     "end_time": "2024-11-17T17:40:43.305339",
     "exception": false,
     "start_time": "2024-11-17T17:40:43.295650",
     "status": "completed"
    },
    "tags": []
   },
   "source": [
    "Create the tables and insert some synthetic data. Feel free to tweak this structure and data."
   ]
  },
  {
   "cell_type": "code",
   "execution_count": 6,
   "id": "4ca1de52",
   "metadata": {
    "execution": {
     "iopub.execute_input": "2024-11-17T17:40:43.327536Z",
     "iopub.status.busy": "2024-11-17T17:40:43.326777Z",
     "iopub.status.idle": "2024-11-17T17:40:43.426078Z",
     "shell.execute_reply": "2024-11-17T17:40:43.424770Z"
    },
    "id": "4e186de46cf1",
    "papermill": {
     "duration": 0.113739,
     "end_time": "2024-11-17T17:40:43.429058",
     "exception": false,
     "start_time": "2024-11-17T17:40:43.315319",
     "status": "completed"
    },
    "tags": []
   },
   "outputs": [
    {
     "name": "stdout",
     "output_type": "stream",
     "text": [
      " * sqlite:///sample.db\n",
      "Done.\n",
      "Done.\n",
      "Done.\n",
      "3 rows affected.\n",
      "3 rows affected.\n",
      "3 rows affected.\n"
     ]
    },
    {
     "data": {
      "text/plain": [
       "[]"
      ]
     },
     "execution_count": 6,
     "metadata": {},
     "output_type": "execute_result"
    }
   ],
   "source": [
    "%%sql\n",
    "-- Create the 'products' table\n",
    "CREATE TABLE IF NOT EXISTS products (\n",
    "  \tproduct_id INTEGER PRIMARY KEY AUTOINCREMENT,\n",
    "  \tproduct_name VARCHAR(255) NOT NULL,\n",
    "  \tprice DECIMAL(10, 2) NOT NULL\n",
    "  );\n",
    "\n",
    "-- Create the 'staff' table\n",
    "CREATE TABLE IF NOT EXISTS staff (\n",
    "  \tstaff_id INTEGER PRIMARY KEY AUTOINCREMENT,\n",
    "  \tfirst_name VARCHAR(255) NOT NULL,\n",
    "  \tlast_name VARCHAR(255) NOT NULL\n",
    "  );\n",
    "\n",
    "-- Create the 'orders' table\n",
    "CREATE TABLE IF NOT EXISTS orders (\n",
    "  \torder_id INTEGER PRIMARY KEY AUTOINCREMENT,\n",
    "  \tcustomer_name VARCHAR(255) NOT NULL,\n",
    "  \tstaff_id INTEGER NOT NULL,\n",
    "  \tproduct_id INTEGER NOT NULL,\n",
    "  \tFOREIGN KEY (staff_id) REFERENCES staff (staff_id),\n",
    "  \tFOREIGN KEY (product_id) REFERENCES products (product_id)\n",
    "  );\n",
    "\n",
    "-- Insert data into the 'products' table\n",
    "INSERT INTO products (product_name, price) VALUES\n",
    "  \t('Laptop', 799.99),\n",
    "  \t('Keyboard', 129.99),\n",
    "  \t('Mouse', 29.99);\n",
    "\n",
    "-- Insert data into the 'staff' table\n",
    "INSERT INTO staff (first_name, last_name) VALUES\n",
    "  \t('Alice', 'Smith'),\n",
    "  \t('Bob', 'Johnson'),\n",
    "  \t('Charlie', 'Williams');\n",
    "\n",
    "-- Insert data into the 'orders' table\n",
    "INSERT INTO orders (customer_name, staff_id, product_id) VALUES\n",
    "  \t('David Lee', 1, 1),\n",
    "  \t('Emily Chen', 2, 2),\n",
    "  \t('Frank Brown', 1, 3);"
   ]
  },
  {
   "cell_type": "markdown",
   "id": "1dc8f9ff",
   "metadata": {
    "id": "83901899a79b",
    "papermill": {
     "duration": 0.010554,
     "end_time": "2024-11-17T17:40:43.450000",
     "exception": false,
     "start_time": "2024-11-17T17:40:43.439446",
     "status": "completed"
    },
    "tags": []
   },
   "source": [
    "## Define database functions\n",
    "\n",
    "Function calling with Gemini API's Python SDK can be implemented by defining [an OpenAPI schema](https://ai.google.dev/api/caching#Schema) that is passed to the model. Alternatively you can define Python functions and let the SDK inspect them to automatically define the schema. In this latter case, it's important that the functions are type annotated and have accurate docstrings that describe what the functions do - the model has no insight into the function body, so the docs function as the interface.\n",
    "\n",
    "By providing three key pieces of functionality - listing tables, describing a table, and executing a query - the LLM (or even another user) will have the basic tools needed to understand and interrogate the database.\n",
    "\n",
    "Start with a database connection that will be used across all of the functions."
   ]
  },
  {
   "cell_type": "code",
   "execution_count": 7,
   "id": "9d0c780b",
   "metadata": {
    "execution": {
     "iopub.execute_input": "2024-11-17T17:40:43.472358Z",
     "iopub.status.busy": "2024-11-17T17:40:43.471893Z",
     "iopub.status.idle": "2024-11-17T17:40:43.477769Z",
     "shell.execute_reply": "2024-11-17T17:40:43.476466Z"
    },
    "id": "437168bc6b6e",
    "papermill": {
     "duration": 0.020186,
     "end_time": "2024-11-17T17:40:43.480460",
     "exception": false,
     "start_time": "2024-11-17T17:40:43.460274",
     "status": "completed"
    },
    "tags": []
   },
   "outputs": [],
   "source": [
    "import sqlite3\n",
    "\n",
    "db_file = \"sample.db\"\n",
    "db_conn = sqlite3.connect(db_file)"
   ]
  },
  {
   "cell_type": "markdown",
   "id": "c7a299e2",
   "metadata": {
    "id": "b68b1a2c37d9",
    "papermill": {
     "duration": 0.009844,
     "end_time": "2024-11-17T17:40:43.500686",
     "exception": false,
     "start_time": "2024-11-17T17:40:43.490842",
     "status": "completed"
    },
    "tags": []
   },
   "source": [
    "The first function will list all tables available in the database. Define it, and test it out to ensure it works."
   ]
  },
  {
   "cell_type": "code",
   "execution_count": 8,
   "id": "bd10c38d",
   "metadata": {
    "execution": {
     "iopub.execute_input": "2024-11-17T17:40:43.523470Z",
     "iopub.status.busy": "2024-11-17T17:40:43.522995Z",
     "iopub.status.idle": "2024-11-17T17:40:43.534603Z",
     "shell.execute_reply": "2024-11-17T17:40:43.533296Z"
    },
    "id": "bdb0e4d2bb4b",
    "papermill": {
     "duration": 0.026009,
     "end_time": "2024-11-17T17:40:43.537146",
     "exception": false,
     "start_time": "2024-11-17T17:40:43.511137",
     "status": "completed"
    },
    "tags": []
   },
   "outputs": [
    {
     "name": "stdout",
     "output_type": "stream",
     "text": [
      " - DB CALL: list_tables\n"
     ]
    },
    {
     "data": {
      "text/plain": [
       "['products', 'sqlite_sequence', 'staff', 'orders']"
      ]
     },
     "execution_count": 8,
     "metadata": {},
     "output_type": "execute_result"
    }
   ],
   "source": [
    "def list_tables() -> list[str]:\n",
    "    \"\"\"Retrieve the names of all tables in the database.\"\"\"\n",
    "    # Include print logging statements so you can see when functions are being called.\n",
    "    print(' - DB CALL: list_tables')\n",
    "\n",
    "    cursor = db_conn.cursor()\n",
    "\n",
    "    # Fetch the table names.\n",
    "    cursor.execute(\"SELECT name FROM sqlite_master WHERE type='table';\")\n",
    "\n",
    "    tables = cursor.fetchall()\n",
    "    return [t[0] for t in tables]\n",
    "\n",
    "\n",
    "list_tables()"
   ]
  },
  {
   "cell_type": "markdown",
   "id": "753b0700",
   "metadata": {
    "id": "b6c010b1b6c2",
    "papermill": {
     "duration": 0.010271,
     "end_time": "2024-11-17T17:40:43.557929",
     "exception": false,
     "start_time": "2024-11-17T17:40:43.547658",
     "status": "completed"
    },
    "tags": []
   },
   "source": [
    "Once the available tables is known, the next step a database user will need is to understand what columns are available in a given table. Define that too, and test that it works as expected."
   ]
  },
  {
   "cell_type": "code",
   "execution_count": 9,
   "id": "a57fde31",
   "metadata": {
    "execution": {
     "iopub.execute_input": "2024-11-17T17:40:43.580761Z",
     "iopub.status.busy": "2024-11-17T17:40:43.580316Z",
     "iopub.status.idle": "2024-11-17T17:40:43.591967Z",
     "shell.execute_reply": "2024-11-17T17:40:43.590699Z"
    },
    "id": "ecdb109298c4",
    "papermill": {
     "duration": 0.026681,
     "end_time": "2024-11-17T17:40:43.595136",
     "exception": false,
     "start_time": "2024-11-17T17:40:43.568455",
     "status": "completed"
    },
    "tags": []
   },
   "outputs": [
    {
     "name": "stdout",
     "output_type": "stream",
     "text": [
      " - DB CALL: describe_table\n"
     ]
    },
    {
     "data": {
      "text/plain": [
       "[('product_id', 'INTEGER'),\n",
       " ('product_name', 'VARCHAR(255)'),\n",
       " ('price', 'DECIMAL(10, 2)')]"
      ]
     },
     "execution_count": 9,
     "metadata": {},
     "output_type": "execute_result"
    }
   ],
   "source": [
    "def describe_table(table_name: str) -> list[tuple[str, str]]:\n",
    "    \"\"\"Look up the table schema.\n",
    "\n",
    "    Returns:\n",
    "      List of columns, where each entry is a tuple of (column, type).\n",
    "    \"\"\"\n",
    "    print(' - DB CALL: describe_table')\n",
    "\n",
    "    cursor = db_conn.cursor()\n",
    "\n",
    "    cursor.execute(f\"PRAGMA table_info({table_name});\")\n",
    "\n",
    "    schema = cursor.fetchall()\n",
    "    # [column index, column name, column type, ...]\n",
    "    return [(col[1], col[2]) for col in schema]\n",
    "\n",
    "\n",
    "describe_table(\"products\")"
   ]
  },
  {
   "cell_type": "markdown",
   "id": "a7ee4daa",
   "metadata": {
    "id": "f6053a2ca272",
    "papermill": {
     "duration": 0.010592,
     "end_time": "2024-11-17T17:40:43.617555",
     "exception": false,
     "start_time": "2024-11-17T17:40:43.606963",
     "status": "completed"
    },
    "tags": []
   },
   "source": [
    "Now that the system knows what tables and columns are present, it has enough information to be able to generate and run a `SELECT` query. Now provide that functionality, and test that it works."
   ]
  },
  {
   "cell_type": "code",
   "execution_count": 10,
   "id": "0bc20fe5",
   "metadata": {
    "execution": {
     "iopub.execute_input": "2024-11-17T17:40:43.641471Z",
     "iopub.status.busy": "2024-11-17T17:40:43.641013Z",
     "iopub.status.idle": "2024-11-17T17:40:43.651709Z",
     "shell.execute_reply": "2024-11-17T17:40:43.650552Z"
    },
    "id": "9e405db8b3f6",
    "papermill": {
     "duration": 0.025725,
     "end_time": "2024-11-17T17:40:43.654034",
     "exception": false,
     "start_time": "2024-11-17T17:40:43.628309",
     "status": "completed"
    },
    "tags": []
   },
   "outputs": [
    {
     "name": "stdout",
     "output_type": "stream",
     "text": [
      " - DB CALL: execute_query\n"
     ]
    },
    {
     "data": {
      "text/plain": [
       "[(1, 'Laptop', 799.99), (2, 'Keyboard', 129.99), (3, 'Mouse', 29.99)]"
      ]
     },
     "execution_count": 10,
     "metadata": {},
     "output_type": "execute_result"
    }
   ],
   "source": [
    "def execute_query(sql: str) -> list[list[str]]:\n",
    "    \"\"\"Execute a SELECT statement, returning the results.\"\"\"\n",
    "    print(' - DB CALL: execute_query')\n",
    "\n",
    "    cursor = db_conn.cursor()\n",
    "\n",
    "    cursor.execute(sql)\n",
    "    return cursor.fetchall()\n",
    "\n",
    "\n",
    "execute_query(\"select * from products\")"
   ]
  },
  {
   "cell_type": "markdown",
   "id": "96d378fc",
   "metadata": {
    "id": "ac464dfb35a0",
    "papermill": {
     "duration": 0.010523,
     "end_time": "2024-11-17T17:40:43.675934",
     "exception": false,
     "start_time": "2024-11-17T17:40:43.665411",
     "status": "completed"
    },
    "tags": []
   },
   "source": [
    "## Implement function calls\n",
    "\n",
    "Now you can put it all together in a call to the Gemini API.\n",
    "\n",
    "Function calling works by adding specific messages to a chat session. When function schemas are defined and made available to the model and a conversation is started, instead of returning a text response, the model may return a `function_call` instead. When this happens, the client must respond with a `function_response`, indicating the result of the call, and the conversation can continue on as normal.\n",
    "\n",
    "This function calling interaction normally happens manually, allowing you, the client, to validate and initiate the call. However the Python SDK also supports **automatic function calling**, where the supplied functions will be automatically invoked. This is a powerful feature and should only be exposed when it is safe to do so, such as when the functions have no [side-effects](https://en.wikipedia.org/wiki/Side_effect_(computer_science)).\n",
    "\n",
    "Here's the state diagram representing the conversation flow with function calling. With automatic function calling, the bottom row is executed automatically by the Python SDK. In manual function calling, you write the code to run each step individually.\n",
    "\n",
    "![function calling state diagram](https://codelabs.developers.google.com/static/codelabs/gemini-function-calling/img/gemini-function-calling-overview_1440.png)"
   ]
  },
  {
   "cell_type": "code",
   "execution_count": 11,
   "id": "b965a0ef",
   "metadata": {
    "execution": {
     "iopub.execute_input": "2024-11-17T17:40:43.700008Z",
     "iopub.status.busy": "2024-11-17T17:40:43.699567Z",
     "iopub.status.idle": "2024-11-17T17:40:43.893034Z",
     "shell.execute_reply": "2024-11-17T17:40:43.891773Z"
    },
    "id": "f4839540066d",
    "papermill": {
     "duration": 0.209111,
     "end_time": "2024-11-17T17:40:43.895948",
     "exception": false,
     "start_time": "2024-11-17T17:40:43.686837",
     "status": "completed"
    },
    "tags": []
   },
   "outputs": [],
   "source": [
    "# These are the Python functions defined above.\n",
    "db_tools = [list_tables, describe_table, execute_query]\n",
    "\n",
    "instruction = \"\"\"You are a helpful chatbot that can interact with an SQL database for a computer\n",
    "store. You will take the users questions and turn them into SQL queries using the tools\n",
    "available. Once you have the information you need, you will answer the user's question using\n",
    "the data returned. Use list_tables to see what tables are present, describe_table to understand\n",
    "the schema, and execute_query to issue an SQL SELECT query.\"\"\"\n",
    "\n",
    "model = genai.GenerativeModel(\n",
    "    \"models/gemini-1.5-flash-latest\", tools=db_tools, system_instruction=instruction\n",
    ")\n",
    "\n",
    "# Define a retry policy. The model might make multiple consecutive calls automatically\n",
    "# for a complex query, this ensures the client retries if it hits quota limits.\n",
    "from google.api_core import retry\n",
    "\n",
    "retry_policy = {\"retry\": retry.Retry(predicate=retry.if_transient_error)}\n",
    "\n",
    "# Start a chat with automatic function calling enabled.\n",
    "chat = model.start_chat(enable_automatic_function_calling=True)"
   ]
  },
  {
   "cell_type": "markdown",
   "id": "dc2c1450",
   "metadata": {
    "id": "5f120977f1ee",
    "papermill": {
     "duration": 0.010498,
     "end_time": "2024-11-17T17:40:43.917493",
     "exception": false,
     "start_time": "2024-11-17T17:40:43.906995",
     "status": "completed"
    },
    "tags": []
   },
   "source": [
    "Now you can engage in a chat conversation where you can ask about the contents of the database."
   ]
  },
  {
   "cell_type": "code",
   "execution_count": 12,
   "id": "85483af9",
   "metadata": {
    "execution": {
     "iopub.execute_input": "2024-11-17T17:40:43.941273Z",
     "iopub.status.busy": "2024-11-17T17:40:43.940810Z",
     "iopub.status.idle": "2024-11-17T17:40:46.777951Z",
     "shell.execute_reply": "2024-11-17T17:40:46.776604Z"
    },
    "id": "111cfb79338b",
    "papermill": {
     "duration": 2.852274,
     "end_time": "2024-11-17T17:40:46.780717",
     "exception": false,
     "start_time": "2024-11-17T17:40:43.928443",
     "status": "completed"
    },
    "tags": []
   },
   "outputs": [
    {
     "name": "stdout",
     "output_type": "stream",
     "text": [
      " - DB CALL: list_tables\n",
      " - DB CALL: describe_table\n",
      " - DB CALL: execute_query\n",
      "The cheapest product is the Mouse, priced at $29.99.\n",
      "\n"
     ]
    }
   ],
   "source": [
    "resp = chat.send_message(\"What is the cheapest product?\", request_options=retry_policy)\n",
    "print(resp.text)"
   ]
  },
  {
   "cell_type": "markdown",
   "id": "ebb9cf03",
   "metadata": {
    "id": "43595d4ef920",
    "papermill": {
     "duration": 0.011209,
     "end_time": "2024-11-17T17:40:46.803365",
     "exception": false,
     "start_time": "2024-11-17T17:40:46.792156",
     "status": "completed"
    },
    "tags": []
   },
   "source": [
    "If you re-use the same [`ChatSession`](https://github.com/google-gemini/generative-ai-python/blob/main/docs/api/google/generativeai/ChatSession.md) object, the conversation will continue statefully. If you wish to start fresh, you can call [`start_chat`](https://github.com/google-gemini/generative-ai-python/blob/main/docs/api/google/generativeai/GenerativeModel.md#start_chat) again, or call [`rewind`](https://github.com/google-gemini/generative-ai-python/blob/main/docs/api/google/generativeai/ChatSession.md#rewind) on the chat object to go back a turn.\n",
    "\n",
    "Continue the chat here by asking a follow-up question. Note that the database information is preserved, and the context of the specific product is inferred."
   ]
  },
  {
   "cell_type": "code",
   "execution_count": 13,
   "id": "5a0ae266",
   "metadata": {
    "execution": {
     "iopub.execute_input": "2024-11-17T17:40:46.828254Z",
     "iopub.status.busy": "2024-11-17T17:40:46.827782Z",
     "iopub.status.idle": "2024-11-17T17:40:47.245999Z",
     "shell.execute_reply": "2024-11-17T17:40:47.244661Z"
    },
    "id": "647cbcc43993",
    "papermill": {
     "duration": 0.434032,
     "end_time": "2024-11-17T17:40:47.249078",
     "exception": false,
     "start_time": "2024-11-17T17:40:46.815046",
     "status": "completed"
    },
    "tags": []
   },
   "outputs": [
    {
     "name": "stdout",
     "output_type": "stream",
     "text": [
      "The Mouse is $29.99.\n",
      "\n"
     ]
    }
   ],
   "source": [
    "resp = chat.send_message(\"and how much is it?\", request_options=retry_policy)\n",
    "print(resp.text)"
   ]
  },
  {
   "cell_type": "markdown",
   "id": "cb823290",
   "metadata": {
    "id": "d67f635191c8",
    "papermill": {
     "duration": 0.011129,
     "end_time": "2024-11-17T17:40:47.271902",
     "exception": false,
     "start_time": "2024-11-17T17:40:47.260773",
     "status": "completed"
    },
    "tags": []
   },
   "source": [
    "Explore the chat session and ask your own questions. If you want to try asking more complex questions, try using the `gemini-1.5-pro` model. It has a lower rate limit, so calls might take a bit longer on the free tier, but you'll notice an improvement in expressivity."
   ]
  },
  {
   "cell_type": "code",
   "execution_count": 14,
   "id": "74d5efc5",
   "metadata": {
    "execution": {
     "iopub.execute_input": "2024-11-17T17:40:47.298611Z",
     "iopub.status.busy": "2024-11-17T17:40:47.298121Z",
     "iopub.status.idle": "2024-11-17T17:41:49.993941Z",
     "shell.execute_reply": "2024-11-17T17:41:49.992584Z"
    },
    "id": "647cbcc43993",
    "papermill": {
     "duration": 62.725093,
     "end_time": "2024-11-17T17:41:50.008664",
     "exception": false,
     "start_time": "2024-11-17T17:40:47.283571",
     "status": "completed"
    },
    "tags": []
   },
   "outputs": [
    {
     "name": "stdout",
     "output_type": "stream",
     "text": [
      " - DB CALL: list_tables\n",
      " - DB CALL: describe_table\n",
      " - DB CALL: describe_table\n",
      " - DB CALL: describe_table\n",
      " - DB CALL: execute_query\n",
      "Alice Smith sold the cheapest product.\n"
     ]
    }
   ],
   "source": [
    "model = genai.GenerativeModel(\n",
    "    \"models/gemini-1.5-pro-latest\", tools=db_tools, system_instruction=instruction\n",
    ")\n",
    "\n",
    "chat = model.start_chat(enable_automatic_function_calling=True)\n",
    "response = chat.send_message('Which salesperson sold the cheapest product?', request_options=retry_policy)\n",
    "print(response.text)"
   ]
  },
  {
   "cell_type": "markdown",
   "id": "e6ae4cd1",
   "metadata": {
    "id": "1f5bb6d9bd6a",
    "papermill": {
     "duration": 0.011784,
     "end_time": "2024-11-17T17:41:50.032300",
     "exception": false,
     "start_time": "2024-11-17T17:41:50.020516",
     "status": "completed"
    },
    "tags": []
   },
   "source": [
    "### Inspecting the conversation\n",
    "\n",
    "To see the calls that the model makes, and what the client returns in response, you can inspect `chat.history`. This helper function will print out each turn along with the relevant fields passed or returned."
   ]
  },
  {
   "cell_type": "code",
   "execution_count": 15,
   "id": "2c5fadc5",
   "metadata": {
    "execution": {
     "iopub.execute_input": "2024-11-17T17:41:50.059283Z",
     "iopub.status.busy": "2024-11-17T17:41:50.058159Z",
     "iopub.status.idle": "2024-11-17T17:41:50.185210Z",
     "shell.execute_reply": "2024-11-17T17:41:50.183905Z"
    },
    "id": "639963cc64e2",
    "papermill": {
     "duration": 0.144312,
     "end_time": "2024-11-17T17:41:50.188754",
     "exception": false,
     "start_time": "2024-11-17T17:41:50.044442",
     "status": "completed"
    },
    "tags": []
   },
   "outputs": [
    {
     "name": "stdout",
     "output_type": "stream",
     "text": [
      "User:\n",
      "  \"Which salesperson sold the cheapest product?\"\n",
      "\n",
      "Model:\n",
      "  Function call: list_tables()\n",
      "\n",
      "User:\n",
      "  Function response:\n",
      "    name: \"list_tables\"\n",
      "    response {\n",
      "      fields {\n",
      "        key: \"result\"\n",
      "        value {\n",
      "          list_value {\n",
      "            values {\n",
      "              string_value: \"products\"\n",
      "            }\n",
      "            values {\n",
      "              string_value: \"sqlite_sequence\"\n",
      "            }\n",
      "            values {\n",
      "              string_value: \"staff\"\n",
      "            }\n",
      "            values {\n",
      "              string_value: \"orders\"\n",
      "            }\n",
      "          }\n",
      "        }\n",
      "      }\n",
      "    }\n",
      "\n",
      "\n",
      "Model:\n",
      "  Function call: describe_table(table_name=products)\n",
      "\n",
      "User:\n",
      "  Function response:\n",
      "    name: \"describe_table\"\n",
      "    response {\n",
      "      fields {\n",
      "        key: \"result\"\n",
      "        value {\n",
      "          list_value {\n",
      "            values {\n",
      "              list_value {\n",
      "                values {\n",
      "                  string_value: \"product_id\"\n",
      "                }\n",
      "                values {\n",
      "                  string_value: \"INTEGER\"\n",
      "                }\n",
      "              }\n",
      "            }\n",
      "            values {\n",
      "              list_value {\n",
      "                values {\n",
      "                  string_value: \"product_name\"\n",
      "                }\n",
      "                values {\n",
      "                  string_value: \"VARCHAR(255)\"\n",
      "                }\n",
      "              }\n",
      "            }\n",
      "            values {\n",
      "              list_value {\n",
      "                values {\n",
      "                  string_value: \"price\"\n",
      "                }\n",
      "                values {\n",
      "                  string_value: \"DECIMAL(10, 2)\"\n",
      "                }\n",
      "              }\n",
      "            }\n",
      "          }\n",
      "        }\n",
      "      }\n",
      "    }\n",
      "\n",
      "\n",
      "Model:\n",
      "  Function call: describe_table(table_name=staff)\n",
      "\n",
      "User:\n",
      "  Function response:\n",
      "    name: \"describe_table\"\n",
      "    response {\n",
      "      fields {\n",
      "        key: \"result\"\n",
      "        value {\n",
      "          list_value {\n",
      "            values {\n",
      "              list_value {\n",
      "                values {\n",
      "                  string_value: \"staff_id\"\n",
      "                }\n",
      "                values {\n",
      "                  string_value: \"INTEGER\"\n",
      "                }\n",
      "              }\n",
      "            }\n",
      "            values {\n",
      "              list_value {\n",
      "                values {\n",
      "                  string_value: \"first_name\"\n",
      "                }\n",
      "                values {\n",
      "                  string_value: \"VARCHAR(255)\"\n",
      "                }\n",
      "              }\n",
      "            }\n",
      "            values {\n",
      "              list_value {\n",
      "                values {\n",
      "                  string_value: \"last_name\"\n",
      "                }\n",
      "                values {\n",
      "                  string_value: \"VARCHAR(255)\"\n",
      "                }\n",
      "              }\n",
      "            }\n",
      "          }\n",
      "        }\n",
      "      }\n",
      "    }\n",
      "\n",
      "\n",
      "Model:\n",
      "  Function call: describe_table(table_name=orders)\n",
      "\n",
      "User:\n",
      "  Function response:\n",
      "    name: \"describe_table\"\n",
      "    response {\n",
      "      fields {\n",
      "        key: \"result\"\n",
      "        value {\n",
      "          list_value {\n",
      "            values {\n",
      "              list_value {\n",
      "                values {\n",
      "                  string_value: \"order_id\"\n",
      "                }\n",
      "                values {\n",
      "                  string_value: \"INTEGER\"\n",
      "                }\n",
      "              }\n",
      "            }\n",
      "            values {\n",
      "              list_value {\n",
      "                values {\n",
      "                  string_value: \"customer_name\"\n",
      "                }\n",
      "                values {\n",
      "                  string_value: \"VARCHAR(255)\"\n",
      "                }\n",
      "              }\n",
      "            }\n",
      "            values {\n",
      "              list_value {\n",
      "                values {\n",
      "                  string_value: \"staff_id\"\n",
      "                }\n",
      "                values {\n",
      "                  string_value: \"INTEGER\"\n",
      "                }\n",
      "              }\n",
      "            }\n",
      "            values {\n",
      "              list_value {\n",
      "                values {\n",
      "                  string_value: \"product_id\"\n",
      "                }\n",
      "                values {\n",
      "                  string_value: \"INTEGER\"\n",
      "                }\n",
      "              }\n",
      "            }\n",
      "          }\n",
      "        }\n",
      "      }\n",
      "    }\n",
      "\n",
      "\n",
      "Model:\n",
      "  Function call: execute_query(sql=SELECT staff.first_name, staff.last_name FROM orders INNER JOIN products ON orders.product_id = products.product_id INNER JOIN staff ON orders.staff_id = staff.staff_id ORDER BY products.price ASC LIMIT 1)\n",
      "\n",
      "User:\n",
      "  Function response:\n",
      "    name: \"execute_query\"\n",
      "    response {\n",
      "      fields {\n",
      "        key: \"result\"\n",
      "        value {\n",
      "          list_value {\n",
      "            values {\n",
      "              list_value {\n",
      "                values {\n",
      "                  string_value: \"Alice\"\n",
      "                }\n",
      "                values {\n",
      "                  string_value: \"Smith\"\n",
      "                }\n",
      "              }\n",
      "            }\n",
      "          }\n",
      "        }\n",
      "      }\n",
      "    }\n",
      "\n",
      "\n",
      "Model:\n",
      "  \"Alice Smith sold the cheapest product.\"\n",
      "\n"
     ]
    }
   ],
   "source": [
    "import textwrap\n",
    "\n",
    "\n",
    "def print_chat_turns(chat):\n",
    "    \"\"\"Prints out each turn in the chat history, including function calls and responses.\"\"\"\n",
    "    for event in chat.history:\n",
    "        print(f\"{event.role.capitalize()}:\")\n",
    "\n",
    "        for part in event.parts:\n",
    "            if txt := part.text:\n",
    "                print(f'  \"{txt}\"')\n",
    "            elif fn := part.function_call:\n",
    "                args = \", \".join(f\"{key}={val}\" for key, val in fn.args.items())\n",
    "                print(f\"  Function call: {fn.name}({args})\")\n",
    "            elif resp := part.function_response:\n",
    "                print(\"  Function response:\")\n",
    "                print(textwrap.indent(str(resp), \"    \"))\n",
    "\n",
    "        print()\n",
    "\n",
    "\n",
    "print_chat_turns(chat)"
   ]
  },
  {
   "cell_type": "markdown",
   "id": "d781fb93",
   "metadata": {
    "id": "8a17aeb2a3ef",
    "papermill": {
     "duration": 0.01181,
     "end_time": "2024-11-17T17:41:50.212932",
     "exception": false,
     "start_time": "2024-11-17T17:41:50.201122",
     "status": "completed"
    },
    "tags": []
   },
   "source": [
    "In this output you can see each of the conversational turns that were made. Note that the model doesn't remember anything outside of a `ChatSession` object, so you can make changes to the database structure or data and the model will respond without needing any code changes - try this out!"
   ]
  },
  {
   "cell_type": "markdown",
   "id": "9750d56b",
   "metadata": {
    "id": "8a17aeb2a3ef",
    "papermill": {
     "duration": 0.011831,
     "end_time": "2024-11-17T17:41:50.236821",
     "exception": false,
     "start_time": "2024-11-17T17:41:50.224990",
     "status": "completed"
    },
    "tags": []
   },
   "source": [
    "## Further reading\n",
    "\n",
    "To learn more about what the Gemini API can do with function calling, check out the [Function calling cookbook](https://github.com/google-gemini/cookbook/blob/main/quickstarts/Function_calling.ipynb) (see `Manual function calling` to understand how function calling works manually) as well as [Function calling config](https://github.com/google-gemini/cookbook/blob/main/quickstarts/Function_calling_config.ipynb), which gives you fine-grained control over how function calling is triggered."
   ]
  }
 ],
 "metadata": {
  "colab": {
   "name": "day-3-function-calling-with-the-gemini-api.ipynb",
   "toc_visible": true
  },
  "kaggle": {
   "accelerator": "none",
   "dataSources": [],
   "dockerImageVersionId": 30786,
   "isGpuEnabled": false,
   "isInternetEnabled": true,
   "language": "python",
   "sourceType": "notebook"
  },
  "kernelspec": {
   "display_name": "Python 3",
   "language": "python",
   "name": "python3"
  },
  "language_info": {
   "codemirror_mode": {
    "name": "ipython",
    "version": 3
   },
   "file_extension": ".py",
   "mimetype": "text/x-python",
   "name": "python",
   "nbconvert_exporter": "python",
   "pygments_lexer": "ipython3",
   "version": "3.10.14"
  },
  "papermill": {
   "default_parameters": {},
   "duration": 106.167792,
   "end_time": "2024-11-17T17:41:51.071573",
   "environment_variables": {},
   "exception": null,
   "input_path": "__notebook__.ipynb",
   "output_path": "__notebook__.ipynb",
   "parameters": {},
   "start_time": "2024-11-17T17:40:04.903781",
   "version": "2.6.0"
  }
 },
 "nbformat": 4,
 "nbformat_minor": 5
}
