{
 "cells": [
  {
   "cell_type": "markdown",
   "id": "7681f6e5",
   "metadata": {
    "id": "jkxRSYjzA1oX",
    "papermill": {
     "duration": 0.017321,
     "end_time": "2024-11-17T09:46:58.113107",
     "exception": false,
     "start_time": "2024-11-17T09:46:58.095786",
     "status": "completed"
    },
    "tags": []
   },
   "source": [
    "##### Copyright 2024 Google LLC."
   ]
  },
  {
   "cell_type": "code",
   "execution_count": 1,
   "id": "a44fc402",
   "metadata": {
    "cellView": "form",
    "execution": {
     "iopub.execute_input": "2024-11-17T09:46:58.142511Z",
     "iopub.status.busy": "2024-11-17T09:46:58.141969Z",
     "iopub.status.idle": "2024-11-17T09:46:58.147549Z",
     "shell.execute_reply": "2024-11-17T09:46:58.146689Z"
    },
    "id": "5u5OZ2ShA3BA",
    "jupyter": {
     "source_hidden": true
    },
    "papermill": {
     "duration": 0.023211,
     "end_time": "2024-11-17T09:46:58.149700",
     "exception": false,
     "start_time": "2024-11-17T09:46:58.126489",
     "status": "completed"
    },
    "tags": []
   },
   "outputs": [],
   "source": [
    "# @title Licensed under the Apache License, Version 2.0 (the \"License\");\n",
    "# you may not use this file except in compliance with the License.\n",
    "# You may obtain a copy of the License at\n",
    "#\n",
    "# https://www.apache.org/licenses/LICENSE-2.0\n",
    "#\n",
    "# Unless required by applicable law or agreed to in writing, software\n",
    "# distributed under the License is distributed on an \"AS IS\" BASIS,\n",
    "# WITHOUT WARRANTIES OR CONDITIONS OF ANY KIND, either express or implied.\n",
    "# See the License for the specific language governing permissions and\n",
    "# limitations under the License."
   ]
  },
  {
   "cell_type": "markdown",
   "id": "240b4c70",
   "metadata": {
    "id": "csNPnkuCobmG",
    "papermill": {
     "duration": 0.013028,
     "end_time": "2024-11-17T09:46:58.175794",
     "exception": false,
     "start_time": "2024-11-17T09:46:58.162766",
     "status": "completed"
    },
    "tags": []
   },
   "source": [
    "# Day 1 - Prompting\n",
    "\n",
    "Welcome to the Kaggle 5-day Generative AI course!\n",
    "\n",
    "This notebook will show you how to get started with the Gemini API and walk you through some of the example prompts and techniques that you can also read about in the Prompting whitepaper. You don't need to read the whitepaper to use this notebook, but the papers will give you some theoretical context and background to complement this interactive notebook.\n",
    "\n",
    "\n",
    "## Before you begin\n",
    "\n",
    "In this notebook, you'll start exploring prompts and prompt parameters using the Python SDK and AI Studio. For some inspiration, you might enjoy exploring some apps that have been built using the Gemini family of models. Here are a few that we like, and we think you will too.\n",
    "\n",
    "* [TextFX](https://textfx.withgoogle.com/) is a suite of AI-powered tools for rappers, made in collaboration with Lupe Fiasco,\n",
    "* [SQL Talk](https://sql-talk-r5gdynozbq-uc.a.run.app/) shows how you can talk directly to a database using the Gemini API,\n",
    "* [NotebookLM](https://notebooklm.google/) uses Gemini models to build your own personal AI research assistant.\n",
    "\n",
    "\n",
    "## For help\n",
    "\n",
    "**Common issues are covered in the [FAQ and troubleshooting guide](https://www.kaggle.com/code/markishere/day-0-troubleshooting-and-faqs).**\n",
    "\n",
    "### A note on the Gemini API and Vertex AI\n",
    "\n",
    "In the whitepapers, most of the example code uses the Enterprise [Vertex AI platform](https://cloud.google.com/vertex-ai). In contrast, this notebook, along with the others in this series, will use the [Gemini Developer API](https://ai.google.dev/gemini-api/) and [AI Studio](https://aistudio.google.com/).\n",
    "\n",
    "Both APIs provide access to the Gemini family of models, and the code to interact with the models is very similar. Vertex provides a world-class platform for enterprises, governments and advanced users that need powerful features like data governance, ML ops and deep Google Cloud integration.\n",
    "\n",
    "AI Studio is free to use and only requires a compatible Google account to log in and get started. It is deeply integrated with the Gemini API, which comes with a generous [free tier](https://ai.google.dev/pricing) that you can use to run the code in these exercises.\n",
    "\n",
    "If you are already set up with Google Cloud, you can check out the [Enterprise Gemini API](https://cloud.google.com/vertex-ai/generative-ai/docs/model-reference/inference) through Vertex AI, and run the samples directly from the supplied whitepapers."
   ]
  },
  {
   "cell_type": "markdown",
   "id": "884c26a7",
   "metadata": {
    "id": "f00ea7c99e44",
    "papermill": {
     "duration": 0.012594,
     "end_time": "2024-11-17T09:46:58.201492",
     "exception": false,
     "start_time": "2024-11-17T09:46:58.188898",
     "status": "completed"
    },
    "tags": []
   },
   "source": [
    "## Get started with Kaggle notebooks\n",
    "\n",
    "If this is your first time using a Kaggle notebook, welcome! You can read about how to use Kaggle notebooks [in the docs](https://www.kaggle.com/docs/notebooks).\n",
    "\n",
    "First, you will need to phone verify your account at kaggle.com/settings.\n",
    "\n",
    "![](https://storage.googleapis.com/kaggle-media/Images/5dgai_0.png)"
   ]
  },
  {
   "cell_type": "markdown",
   "id": "d19058bc",
   "metadata": {
    "papermill": {
     "duration": 0.012434,
     "end_time": "2024-11-17T09:46:58.226740",
     "exception": false,
     "start_time": "2024-11-17T09:46:58.214306",
     "status": "completed"
    },
    "tags": []
   },
   "source": [
    "To run this notebook, as well as the others in this course, you will need to make a copy, or fork, the notebook. Look for the `Copy and Edit` button in the top-right, and **click it** to make an editable, private copy of the notebook. It should look like this one:\n",
    "\n",
    "![Copy and Edit button](https://storage.googleapis.com/kaggle-media/Images/5gdai_sc_1.png)\n",
    "\n",
    "Your copy will now have a ▶️ **Run** button next to each code cell that you can press to execute that cell. These notebooks are expected to be run in order from top-to-bottom, but you are encouraged to add new cells, run your own code and explore. If you get stuck, you can try the `Factory reset` option in the `Run` menu, or head back to the original notebook and make a fresh copy.\n",
    "\n",
    "![Run cell button](https://storage.googleapis.com/kaggle-media/Images/5gdai_sc_2.png)\n",
    "\n",
    "### Problems?\n",
    "\n",
    "If you have any problems, head over to the [Kaggle Discord](https://discord.com/invite/kaggle), find the [`#5dgai-q-and-a` channel](https://discord.com/channels/1101210829807956100/1303438695143178251) and ask for help."
   ]
  },
  {
   "cell_type": "markdown",
   "id": "e674148b",
   "metadata": {
    "id": "ExkOXcPxtTb5",
    "papermill": {
     "duration": 0.012544,
     "end_time": "2024-11-17T09:46:58.252249",
     "exception": false,
     "start_time": "2024-11-17T09:46:58.239705",
     "status": "completed"
    },
    "tags": []
   },
   "source": [
    "## Get started with the Gemini API\n",
    "\n",
    "All of the exercises in this notebook will use the [Gemini API](https://ai.google.dev/gemini-api/) by way of the [Python SDK](https://pypi.org/project/google-generativeai/). Each of these prompts can be accessed directly in [Google AI Studio](https://aistudio.google.com/) too, so if you would rather use a web interface and skip the code for this activity, look for the <img src=\"https://ai.google.dev/site-assets/images/marketing/home/icon-ais.png\" style=\"height: 24px\" height=24/> AI Studio link on each prompt."
   ]
  },
  {
   "cell_type": "markdown",
   "id": "7a596bc5",
   "metadata": {
    "papermill": {
     "duration": 0.012789,
     "end_time": "2024-11-17T09:46:58.278562",
     "exception": false,
     "start_time": "2024-11-17T09:46:58.265773",
     "status": "completed"
    },
    "tags": []
   },
   "source": [
    "Next, you will need to add your API key to your Kaggle Notebook as a Kaggle User Secret.\n",
    "\n",
    "![](https://storage.googleapis.com/kaggle-media/Images/5dgai_1.png)\n",
    "![](https://storage.googleapis.com/kaggle-media/Images/5dgai_2.png)\n",
    "![](https://storage.googleapis.com/kaggle-media/Images/5dgai_3.png)\n",
    "![](https://storage.googleapis.com/kaggle-media/Images/5dgai_4.png)"
   ]
  },
  {
   "cell_type": "markdown",
   "id": "331d9ecc",
   "metadata": {
    "id": "UAjUV3BsvFXQ",
    "papermill": {
     "duration": 0.013002,
     "end_time": "2024-11-17T09:46:58.304525",
     "exception": false,
     "start_time": "2024-11-17T09:46:58.291523",
     "status": "completed"
    },
    "tags": []
   },
   "source": [
    "### Install the SDK"
   ]
  },
  {
   "cell_type": "code",
   "execution_count": 2,
   "id": "e706347b",
   "metadata": {
    "execution": {
     "iopub.execute_input": "2024-11-17T09:46:58.332170Z",
     "iopub.status.busy": "2024-11-17T09:46:58.331755Z",
     "iopub.status.idle": "2024-11-17T09:47:26.030922Z",
     "shell.execute_reply": "2024-11-17T09:47:26.029587Z"
    },
    "id": "NzwzJFU9LqkJ",
    "papermill": {
     "duration": 27.715882,
     "end_time": "2024-11-17T09:47:26.033625",
     "exception": false,
     "start_time": "2024-11-17T09:46:58.317743",
     "status": "completed"
    },
    "tags": []
   },
   "outputs": [
    {
     "name": "stdout",
     "output_type": "stream",
     "text": [
      "Note: you may need to restart the kernel to use updated packages.\n"
     ]
    }
   ],
   "source": [
    "%pip install -U -q \"google-generativeai>=0.8.3\""
   ]
  },
  {
   "cell_type": "markdown",
   "id": "4993da64",
   "metadata": {
    "papermill": {
     "duration": 0.013296,
     "end_time": "2024-11-17T09:47:26.060159",
     "exception": false,
     "start_time": "2024-11-17T09:47:26.046863",
     "status": "completed"
    },
    "tags": []
   },
   "source": [
    "You do not need to restart the kernel."
   ]
  },
  {
   "cell_type": "code",
   "execution_count": 3,
   "id": "4f5d1952",
   "metadata": {
    "execution": {
     "iopub.execute_input": "2024-11-17T09:47:26.088682Z",
     "iopub.status.busy": "2024-11-17T09:47:26.088224Z",
     "iopub.status.idle": "2024-11-17T09:47:27.182484Z",
     "shell.execute_reply": "2024-11-17T09:47:27.181544Z"
    },
    "id": "5DwxYIRavMST",
    "papermill": {
     "duration": 1.111722,
     "end_time": "2024-11-17T09:47:27.185080",
     "exception": false,
     "start_time": "2024-11-17T09:47:26.073358",
     "status": "completed"
    },
    "tags": []
   },
   "outputs": [],
   "source": [
    "import google.generativeai as genai\n",
    "from IPython.display import HTML, Markdown, display"
   ]
  },
  {
   "cell_type": "markdown",
   "id": "6fb1bc85",
   "metadata": {
    "id": "DNEt2BCOvOJ1",
    "papermill": {
     "duration": 0.012575,
     "end_time": "2024-11-17T09:47:27.210961",
     "exception": false,
     "start_time": "2024-11-17T09:47:27.198386",
     "status": "completed"
    },
    "tags": []
   },
   "source": [
    "### Set up your API key\n",
    "\n",
    "To run the following cell, your API key must be stored it in a [Kaggle secret](https://www.kaggle.com/discussions/product-feedback/114053) named `GOOGLE_API_KEY`.\n",
    "\n",
    "If you don't already have an API key, you can grab one from [AI Studio](https://aistudio.google.com/app/apikey). You can find [detailed instructions in the docs](https://ai.google.dev/gemini-api/docs/api-key).\n",
    "\n",
    "To make the key available through Kaggle secrets, choose `Secrets` from the `Add-ons` menu and follow the instructions to add your key or enable it for this notebook."
   ]
  },
  {
   "cell_type": "code",
   "execution_count": 4,
   "id": "bd03ae91",
   "metadata": {
    "execution": {
     "iopub.execute_input": "2024-11-17T09:47:27.239333Z",
     "iopub.status.busy": "2024-11-17T09:47:27.238093Z",
     "iopub.status.idle": "2024-11-17T09:47:27.538886Z",
     "shell.execute_reply": "2024-11-17T09:47:27.537816Z"
    },
    "id": "SHl0bkPCvayd",
    "papermill": {
     "duration": 0.317674,
     "end_time": "2024-11-17T09:47:27.541540",
     "exception": false,
     "start_time": "2024-11-17T09:47:27.223866",
     "status": "completed"
    },
    "tags": []
   },
   "outputs": [],
   "source": [
    "from kaggle_secrets import UserSecretsClient\n",
    "\n",
    "GOOGLE_API_KEY = UserSecretsClient().get_secret(\"GOOGLE_API_KEY\")\n",
    "genai.configure(api_key=GOOGLE_API_KEY)"
   ]
  },
  {
   "cell_type": "markdown",
   "id": "3d86baa6",
   "metadata": {
    "papermill": {
     "duration": 0.012648,
     "end_time": "2024-11-17T09:47:27.567244",
     "exception": false,
     "start_time": "2024-11-17T09:47:27.554596",
     "status": "completed"
    },
    "tags": []
   },
   "source": []
  },
  {
   "cell_type": "markdown",
   "id": "86871a9e",
   "metadata": {
    "id": "4e720472fd86",
    "papermill": {
     "duration": 0.012796,
     "end_time": "2024-11-17T09:47:27.593079",
     "exception": false,
     "start_time": "2024-11-17T09:47:27.580283",
     "status": "completed"
    },
    "tags": []
   },
   "source": [
    "If you received an error response along the lines of `No user secrets exist for kernel id ...`, then you need to add your API key via `Add-ons`, `Secrets` **and** enable it.\n",
    "\n",
    "![Screenshot of the checkbox to enable GOOGLE_API_KEY secret](https://storage.googleapis.com/kaggle-media/Images/5gdai_sc_3.png)"
   ]
  },
  {
   "cell_type": "markdown",
   "id": "de72b58a",
   "metadata": {
    "id": "H_YXCYIKvyZJ",
    "papermill": {
     "duration": 0.01263,
     "end_time": "2024-11-17T09:47:27.618744",
     "exception": false,
     "start_time": "2024-11-17T09:47:27.606114",
     "status": "completed"
    },
    "tags": []
   },
   "source": [
    "### Run your first prompt\n",
    "\n",
    "In this step, you will test that your API key is set up correctly by making a request. The `gemini-1.5-flash` model has been selected here."
   ]
  },
  {
   "cell_type": "code",
   "execution_count": 5,
   "id": "6b698080",
   "metadata": {
    "execution": {
     "iopub.execute_input": "2024-11-17T09:47:27.646283Z",
     "iopub.status.busy": "2024-11-17T09:47:27.645874Z",
     "iopub.status.idle": "2024-11-17T09:47:30.246300Z",
     "shell.execute_reply": "2024-11-17T09:47:30.245062Z"
    },
    "id": "BV1o0PmcvyJF",
    "papermill": {
     "duration": 2.617198,
     "end_time": "2024-11-17T09:47:30.248846",
     "exception": false,
     "start_time": "2024-11-17T09:47:27.631648",
     "status": "completed"
    },
    "tags": []
   },
   "outputs": [
    {
     "name": "stdout",
     "output_type": "stream",
     "text": [
      "Imagine you have a really smart puppy.  You teach it tricks, like \"sit\" and \"fetch.\"  At first, the puppy doesn't know what those words mean, but you show it and reward it when it does the right thing.  Slowly, the puppy learns!\n",
      "\n",
      "AI is kind of like that super smart puppy, but instead of learning tricks, it learns from information.  We give it lots and lots of information – like pictures of cats and dogs, or sentences in different languages – and it learns to recognize patterns.  \n",
      "\n",
      "So, after seeing many pictures of cats, the AI can learn to identify a cat in a new picture, even if it's never seen that exact cat before!  Or it can learn to translate words from English to Spanish.\n",
      "\n",
      "It's not actually *thinking* like you or me, it's just really good at finding patterns and following instructions.  It gets better and better the more information it gets.  That's AI!  It's helping us do lots of cool things, like recommend movies you might like, understand what you say to your phone, or even drive cars!\n",
      "\n"
     ]
    }
   ],
   "source": [
    "flash = genai.GenerativeModel('gemini-1.5-flash')\n",
    "response = flash.generate_content(\"Explain AI to me like I'm a kid.\")\n",
    "print(response.text)"
   ]
  },
  {
   "cell_type": "markdown",
   "id": "7efc3b38",
   "metadata": {
    "id": "f60ed9d8ae41",
    "papermill": {
     "duration": 0.012729,
     "end_time": "2024-11-17T09:47:30.274785",
     "exception": false,
     "start_time": "2024-11-17T09:47:30.262056",
     "status": "completed"
    },
    "tags": []
   },
   "source": [
    "The response often comes back in markdown format, which you can render directly in this notebook."
   ]
  },
  {
   "cell_type": "code",
   "execution_count": 6,
   "id": "14cfd388",
   "metadata": {
    "execution": {
     "iopub.execute_input": "2024-11-17T09:47:30.303467Z",
     "iopub.status.busy": "2024-11-17T09:47:30.303037Z",
     "iopub.status.idle": "2024-11-17T09:47:30.311914Z",
     "shell.execute_reply": "2024-11-17T09:47:30.310764Z"
    },
    "id": "c933e5e460a5",
    "papermill": {
     "duration": 0.026198,
     "end_time": "2024-11-17T09:47:30.314451",
     "exception": false,
     "start_time": "2024-11-17T09:47:30.288253",
     "status": "completed"
    },
    "tags": []
   },
   "outputs": [
    {
     "data": {
      "text/markdown": [
       "Imagine you have a really smart puppy.  You teach it tricks, like \"sit\" and \"fetch.\"  At first, the puppy doesn't know what those words mean, but you show it and reward it when it does the right thing.  Slowly, the puppy learns!\n",
       "\n",
       "AI is kind of like that super smart puppy, but instead of learning tricks, it learns from information.  We give it lots and lots of information – like pictures of cats and dogs, or sentences in different languages – and it learns to recognize patterns.  \n",
       "\n",
       "So, after seeing many pictures of cats, the AI can learn to identify a cat in a new picture, even if it's never seen that exact cat before!  Or it can learn to translate words from English to Spanish.\n",
       "\n",
       "It's not actually *thinking* like you or me, it's just really good at finding patterns and following instructions.  It gets better and better the more information it gets.  That's AI!  It's helping us do lots of cool things, like recommend movies you might like, understand what you say to your phone, or even drive cars!\n"
      ],
      "text/plain": [
       "<IPython.core.display.Markdown object>"
      ]
     },
     "execution_count": 6,
     "metadata": {},
     "output_type": "execute_result"
    }
   ],
   "source": [
    "Markdown(response.text)"
   ]
  },
  {
   "cell_type": "markdown",
   "id": "41248929",
   "metadata": {
    "id": "byx0pT9ZMW2Q",
    "papermill": {
     "duration": 0.013702,
     "end_time": "2024-11-17T09:47:30.341719",
     "exception": false,
     "start_time": "2024-11-17T09:47:30.328017",
     "status": "completed"
    },
    "tags": []
   },
   "source": [
    "### Start a chat\n",
    "\n",
    "The previous example uses a single-turn, text-in/text-out structure, but you can also set up a multi-turn chat structure too."
   ]
  },
  {
   "cell_type": "code",
   "execution_count": 7,
   "id": "90be15a1",
   "metadata": {
    "execution": {
     "iopub.execute_input": "2024-11-17T09:47:30.370468Z",
     "iopub.status.busy": "2024-11-17T09:47:30.370071Z",
     "iopub.status.idle": "2024-11-17T09:47:30.957119Z",
     "shell.execute_reply": "2024-11-17T09:47:30.955920Z"
    },
    "id": "lV_S5ZL5MidD",
    "papermill": {
     "duration": 0.604476,
     "end_time": "2024-11-17T09:47:30.959910",
     "exception": false,
     "start_time": "2024-11-17T09:47:30.355434",
     "status": "completed"
    },
    "tags": []
   },
   "outputs": [
    {
     "name": "stdout",
     "output_type": "stream",
     "text": [
      "It's nice to meet you, Zlork!  How can I help you today?\n",
      "\n"
     ]
    }
   ],
   "source": [
    "chat = flash.start_chat(history=[])\n",
    "response = chat.send_message('Hello! My name is Zlork.')\n",
    "print(response.text)"
   ]
  },
  {
   "cell_type": "code",
   "execution_count": 8,
   "id": "6ba70941",
   "metadata": {
    "execution": {
     "iopub.execute_input": "2024-11-17T09:47:30.988522Z",
     "iopub.status.busy": "2024-11-17T09:47:30.988143Z",
     "iopub.status.idle": "2024-11-17T09:47:32.047414Z",
     "shell.execute_reply": "2024-11-17T09:47:32.045541Z"
    },
    "id": "7b0372c3c64a",
    "papermill": {
     "duration": 1.076578,
     "end_time": "2024-11-17T09:47:32.050074",
     "exception": false,
     "start_time": "2024-11-17T09:47:30.973496",
     "status": "completed"
    },
    "tags": []
   },
   "outputs": [
    {
     "name": "stdout",
     "output_type": "stream",
     "text": [
      "Did you know that some dinosaurs had feathers?  While we often picture dinosaurs as scaly reptiles, many, especially theropods (the group that includes *Tyrannosaurus rex* and *Velociraptor*), possessed feathers, ranging from simple filaments to complex, flight-capable structures. This discovery has significantly changed our understanding of dinosaur evolution and their relationship to birds.  Birds, in fact, are now considered to be direct descendants of feathered dinosaurs.\n",
      "\n"
     ]
    }
   ],
   "source": [
    "response = chat.send_message('Can you tell something interesting about dinosaurs?')\n",
    "print(response.text)"
   ]
  },
  {
   "cell_type": "code",
   "execution_count": 9,
   "id": "88a3ef31",
   "metadata": {
    "execution": {
     "iopub.execute_input": "2024-11-17T09:47:32.082237Z",
     "iopub.status.busy": "2024-11-17T09:47:32.080828Z",
     "iopub.status.idle": "2024-11-17T09:47:32.621154Z",
     "shell.execute_reply": "2024-11-17T09:47:32.620047Z"
    },
    "id": "d3f9591392a7",
    "papermill": {
     "duration": 0.559117,
     "end_time": "2024-11-17T09:47:32.623474",
     "exception": false,
     "start_time": "2024-11-17T09:47:32.064357",
     "status": "completed"
    },
    "tags": []
   },
   "outputs": [
    {
     "name": "stdout",
     "output_type": "stream",
     "text": [
      "Yes, your name is Zlork.\n",
      "\n"
     ]
    }
   ],
   "source": [
    "# While you have the `chat` object around, the conversation state\n",
    "# persists. Confirm that by asking if it knows my name.\n",
    "response = chat.send_message('Do you remember what my name is?')\n",
    "print(response.text)"
   ]
  },
  {
   "cell_type": "markdown",
   "id": "3f76669a",
   "metadata": {
    "id": "2KAjpr1200sW",
    "papermill": {
     "duration": 0.013621,
     "end_time": "2024-11-17T09:47:32.650500",
     "exception": false,
     "start_time": "2024-11-17T09:47:32.636879",
     "status": "completed"
    },
    "tags": []
   },
   "source": [
    "### Choose a model\n",
    "\n",
    "The Gemini API provides access to a number of models from the Gemini model family. Read about the available models and their capabilities on the [model overview page](https://ai.google.dev/gemini-api/docs/models/gemini).\n",
    "\n",
    "In this step you'll use the API to list all of the available models."
   ]
  },
  {
   "cell_type": "code",
   "execution_count": 10,
   "id": "bc2b9ec8",
   "metadata": {
    "execution": {
     "iopub.execute_input": "2024-11-17T09:47:32.679803Z",
     "iopub.status.busy": "2024-11-17T09:47:32.679422Z",
     "iopub.status.idle": "2024-11-17T09:47:33.460350Z",
     "shell.execute_reply": "2024-11-17T09:47:33.459100Z"
    },
    "id": "uUUZa2uq2jDm",
    "papermill": {
     "duration": 0.798334,
     "end_time": "2024-11-17T09:47:33.462874",
     "exception": false,
     "start_time": "2024-11-17T09:47:32.664540",
     "status": "completed"
    },
    "tags": []
   },
   "outputs": [
    {
     "name": "stdout",
     "output_type": "stream",
     "text": [
      "models/chat-bison-001\n",
      "models/text-bison-001\n",
      "models/embedding-gecko-001\n",
      "models/gemini-1.0-pro-latest\n",
      "models/gemini-1.0-pro\n",
      "models/gemini-pro\n",
      "models/gemini-1.0-pro-001\n",
      "models/gemini-1.0-pro-vision-latest\n",
      "models/gemini-pro-vision\n",
      "models/gemini-1.5-pro-latest\n",
      "models/gemini-1.5-pro-001\n",
      "models/gemini-1.5-pro-002\n",
      "models/gemini-1.5-pro\n",
      "models/gemini-1.5-pro-exp-0801\n",
      "models/gemini-1.5-pro-exp-0827\n",
      "models/gemini-1.5-flash-latest\n",
      "models/gemini-1.5-flash-001\n",
      "models/gemini-1.5-flash-001-tuning\n",
      "models/gemini-1.5-flash\n",
      "models/gemini-1.5-flash-exp-0827\n",
      "models/gemini-1.5-flash-002\n",
      "models/gemini-1.5-flash-8b\n",
      "models/gemini-1.5-flash-8b-001\n",
      "models/gemini-1.5-flash-8b-latest\n",
      "models/gemini-1.5-flash-8b-exp-0827\n",
      "models/gemini-1.5-flash-8b-exp-0924\n",
      "models/gemini-exp-1114\n",
      "models/embedding-001\n",
      "models/text-embedding-004\n",
      "models/aqa\n"
     ]
    }
   ],
   "source": [
    "for model in genai.list_models():\n",
    "  print(model.name)"
   ]
  },
  {
   "cell_type": "markdown",
   "id": "11e1f36f",
   "metadata": {
    "id": "rN49kSI54R1v",
    "papermill": {
     "duration": 0.013563,
     "end_time": "2024-11-17T09:47:33.490516",
     "exception": false,
     "start_time": "2024-11-17T09:47:33.476953",
     "status": "completed"
    },
    "tags": []
   },
   "source": [
    "The [`models.list`](https://ai.google.dev/api/models#method:-models.list) response also returns additional information about the model's capabilities, like the token limits and supported parameters."
   ]
  },
  {
   "cell_type": "code",
   "execution_count": 11,
   "id": "cbe7d75d",
   "metadata": {
    "execution": {
     "iopub.execute_input": "2024-11-17T09:47:33.519452Z",
     "iopub.status.busy": "2024-11-17T09:47:33.519046Z",
     "iopub.status.idle": "2024-11-17T09:47:34.319788Z",
     "shell.execute_reply": "2024-11-17T09:47:34.318702Z"
    },
    "id": "k7JJ1K6j4Rl8",
    "papermill": {
     "duration": 0.818045,
     "end_time": "2024-11-17T09:47:34.322240",
     "exception": false,
     "start_time": "2024-11-17T09:47:33.504195",
     "status": "completed"
    },
    "tags": []
   },
   "outputs": [
    {
     "name": "stdout",
     "output_type": "stream",
     "text": [
      "Model(name='models/gemini-1.5-flash',\n",
      "      base_model_id='',\n",
      "      version='001',\n",
      "      display_name='Gemini 1.5 Flash',\n",
      "      description='Fast and versatile multimodal model for scaling across diverse tasks',\n",
      "      input_token_limit=1000000,\n",
      "      output_token_limit=8192,\n",
      "      supported_generation_methods=['generateContent', 'countTokens'],\n",
      "      temperature=1.0,\n",
      "      max_temperature=2.0,\n",
      "      top_p=0.95,\n",
      "      top_k=40)\n"
     ]
    }
   ],
   "source": [
    "for model in genai.list_models():\n",
    "  if model.name == 'models/gemini-1.5-flash':\n",
    "    print(model)\n",
    "    break"
   ]
  },
  {
   "cell_type": "markdown",
   "id": "d15b98ad",
   "metadata": {
    "id": "5rU_UBlZdooM",
    "papermill": {
     "duration": 0.0134,
     "end_time": "2024-11-17T09:47:34.349461",
     "exception": false,
     "start_time": "2024-11-17T09:47:34.336061",
     "status": "completed"
    },
    "tags": []
   },
   "source": [
    "## Explore generation parameters\n",
    "\n"
   ]
  },
  {
   "cell_type": "markdown",
   "id": "ba6baf3c",
   "metadata": {
    "id": "G7NfEizeipbW",
    "papermill": {
     "duration": 0.013432,
     "end_time": "2024-11-17T09:47:34.376623",
     "exception": false,
     "start_time": "2024-11-17T09:47:34.363191",
     "status": "completed"
    },
    "tags": []
   },
   "source": [
    "### Output length\n",
    "\n",
    "When generating text with an LLM, the output length affects cost and performance. Generating more tokens increases computation, leading to higher energy consumption, latency, and cost.\n",
    "\n",
    "To stop the model from generating tokens past a limit, you can specify the `max_output_tokens` parameter when using the Gemini API. Specifying this parameter does not influence the generation of the output tokens, so the output will not become more stylistically or textually succinct, but it will stop generating tokens once the specified length is reached. Prompt engineering may be required to generate a more complete output for your given limit."
   ]
  },
  {
   "cell_type": "code",
   "execution_count": 12,
   "id": "82c1181e",
   "metadata": {
    "execution": {
     "iopub.execute_input": "2024-11-17T09:47:34.405512Z",
     "iopub.status.busy": "2024-11-17T09:47:34.405056Z",
     "iopub.status.idle": "2024-11-17T09:47:36.059864Z",
     "shell.execute_reply": "2024-11-17T09:47:36.058675Z"
    },
    "id": "qVf23JsIi9ma",
    "papermill": {
     "duration": 1.67244,
     "end_time": "2024-11-17T09:47:36.062622",
     "exception": false,
     "start_time": "2024-11-17T09:47:34.390182",
     "status": "completed"
    },
    "tags": []
   },
   "outputs": [
    {
     "name": "stdout",
     "output_type": "stream",
     "text": [
      "## The Enduring Significance of Olives in Modern Society\n",
      "\n",
      "The olive, *Olea europaea*, a seemingly unassuming fruit, holds a profound and multifaceted significance in modern society that extends far beyond its culinary applications. From its historical roots intertwined with ancient civilizations to its current economic and environmental impact, the olive’s influence is pervasive and enduring.  This essay will explore the various dimensions of the olive's importance, highlighting its contributions to gastronomy, economy, health, environment, and culture.\n",
      "\n",
      "The most immediate and widely recognized role of the olive is its contribution to gastronomy.  Olive oil, the liquid gold extracted from its fruit, stands as a cornerstone of Mediterranean cuisine, profoundly impacting flavour profiles and culinary traditions across the region and beyond.  Its versatility is unmatched; used as a cooking medium, salad dressing, dipping oil, and even as a key ingredient in sauces and desserts, it offers a unique flavour profile that ranges from fruity and peppery to grassy and buttery, depending on\n"
     ]
    }
   ],
   "source": [
    "short_model = genai.GenerativeModel(\n",
    "    'gemini-1.5-flash',\n",
    "    generation_config=genai.GenerationConfig(max_output_tokens=200))\n",
    "\n",
    "response = short_model.generate_content('Write a 1000 word essay on the importance of olives in modern society.')\n",
    "print(response.text)"
   ]
  },
  {
   "cell_type": "code",
   "execution_count": 13,
   "id": "0f3d0209",
   "metadata": {
    "execution": {
     "iopub.execute_input": "2024-11-17T09:47:36.093298Z",
     "iopub.status.busy": "2024-11-17T09:47:36.092375Z",
     "iopub.status.idle": "2024-11-17T09:47:37.319821Z",
     "shell.execute_reply": "2024-11-17T09:47:37.318712Z"
    },
    "id": "W-3kR2F5kdMR",
    "papermill": {
     "duration": 1.245167,
     "end_time": "2024-11-17T09:47:37.322371",
     "exception": false,
     "start_time": "2024-11-17T09:47:36.077204",
     "status": "completed"
    },
    "tags": []
   },
   "outputs": [
    {
     "name": "stdout",
     "output_type": "stream",
     "text": [
      "From sun-drenched groves, a bounty born,\n",
      "The olive's gift, a world adorned.\n",
      "In jars of green, or black so deep,\n",
      "A flavor ancient, secrets to keep.\n",
      "\n",
      "From table spread to bottle's gleam,\n",
      "A culinary, vibrant dream.\n",
      "Its oil, a health, a beauty's grace,\n",
      "A staple found in every place.\n",
      "\n",
      "So raise a glass, or take a bite,\n",
      "Of this small fruit, a pure delight.\n",
      "The olive's worth, we can't deny,\n",
      "A treasure held beneath the sky.\n",
      "\n"
     ]
    }
   ],
   "source": [
    "response = short_model.generate_content('Write a short poem on the importance of olives in modern society.')\n",
    "print(response.text)"
   ]
  },
  {
   "cell_type": "markdown",
   "id": "bda58d8c",
   "metadata": {
    "id": "3ZhDSLB6lqqB",
    "papermill": {
     "duration": 0.014272,
     "end_time": "2024-11-17T09:47:37.350971",
     "exception": false,
     "start_time": "2024-11-17T09:47:37.336699",
     "status": "completed"
    },
    "tags": []
   },
   "source": [
    "Explore with your own prompts. Try a prompt with a restrictive output limit and then adjust the prompt to work within that limit."
   ]
  },
  {
   "cell_type": "markdown",
   "id": "bb6b93a7",
   "metadata": {
    "id": "alx-WaAvir_9",
    "papermill": {
     "duration": 0.014679,
     "end_time": "2024-11-17T09:47:37.380742",
     "exception": false,
     "start_time": "2024-11-17T09:47:37.366063",
     "status": "completed"
    },
    "tags": []
   },
   "source": [
    "### Temperature\n",
    "\n",
    "Temperature controls the degree of randomness in token selection. Higher temperatures result in a higher number of candidate tokens from which the next output token is selected, and can produce more diverse results, while lower temperatures have the opposite effect, such that a temperature of 0 results in greedy decoding, selecting the most probable token at each step.\n",
    "\n",
    "Temperature doesn't provide any guarantees of randomness, but it can be used to \"nudge\" the output somewhat.\n",
    "\n",
    "**Note that if you see a 429 Resource Exhausted error here, you may be able to edit the words in the prompt slightly to progress.**"
   ]
  },
  {
   "cell_type": "code",
   "execution_count": 14,
   "id": "f2286ab7",
   "metadata": {
    "execution": {
     "iopub.execute_input": "2024-11-17T09:47:37.410616Z",
     "iopub.status.busy": "2024-11-17T09:47:37.409847Z",
     "iopub.status.idle": "2024-11-17T09:47:41.486190Z",
     "shell.execute_reply": "2024-11-17T09:47:41.484916Z"
    },
    "id": "SHraGMzqnZqt",
    "papermill": {
     "duration": 4.094141,
     "end_time": "2024-11-17T09:47:41.488844",
     "exception": false,
     "start_time": "2024-11-17T09:47:37.394703",
     "status": "completed"
    },
    "tags": []
   },
   "outputs": [
    {
     "name": "stdout",
     "output_type": "stream",
     "text": [
      "Aquamarine\n",
      " -------------------------\n",
      "Maroon\n",
      " -------------------------\n",
      "Maroon\n",
      " -------------------------\n",
      "Marigold\n",
      " -------------------------\n",
      "Maroon\n",
      " -------------------------\n"
     ]
    }
   ],
   "source": [
    "from google.api_core import retry\n",
    "\n",
    "high_temp_model = genai.GenerativeModel(\n",
    "    'gemini-1.5-flash',\n",
    "    generation_config=genai.GenerationConfig(temperature=2.0))\n",
    "\n",
    "\n",
    "# When running lots of queries, it's a good practice to use a retry policy so your code\n",
    "# automatically retries when hitting Resource Exhausted (quota limit) errors.\n",
    "retry_policy = {\n",
    "    \"retry\": retry.Retry(predicate=retry.if_transient_error, initial=10, multiplier=1.5, timeout=300)\n",
    "}\n",
    "\n",
    "for _ in range(5):\n",
    "  response = high_temp_model.generate_content('Pick a random colour... (respond in a single word)',\n",
    "                                              request_options=retry_policy)\n",
    "  if response.parts:\n",
    "    print(response.text, '-' * 25)"
   ]
  },
  {
   "cell_type": "markdown",
   "id": "f8d2ec63",
   "metadata": {
    "id": "z3J4pCTuof7e",
    "papermill": {
     "duration": 0.014814,
     "end_time": "2024-11-17T09:47:41.518572",
     "exception": false,
     "start_time": "2024-11-17T09:47:41.503758",
     "status": "completed"
    },
    "tags": []
   },
   "source": [
    "Now try the same prompt with temperature set to zero. Note that the output is not completely deterministic, as other parameters affect token selection, but the results will tend to be more stable."
   ]
  },
  {
   "cell_type": "code",
   "execution_count": 15,
   "id": "0e7ef182",
   "metadata": {
    "execution": {
     "iopub.execute_input": "2024-11-17T09:47:41.548580Z",
     "iopub.status.busy": "2024-11-17T09:47:41.548143Z",
     "iopub.status.idle": "2024-11-17T09:47:43.919686Z",
     "shell.execute_reply": "2024-11-17T09:47:43.918380Z"
    },
    "id": "clymkWv-PfUZ",
    "papermill": {
     "duration": 2.389252,
     "end_time": "2024-11-17T09:47:43.922036",
     "exception": false,
     "start_time": "2024-11-17T09:47:41.532784",
     "status": "completed"
    },
    "tags": []
   },
   "outputs": [
    {
     "name": "stdout",
     "output_type": "stream",
     "text": [
      "Maroon\n",
      " -------------------------\n",
      "Maroon\n",
      " -------------------------\n",
      "Maroon\n",
      " -------------------------\n",
      "Maroon\n",
      " -------------------------\n",
      "Maroon\n",
      " -------------------------\n"
     ]
    }
   ],
   "source": [
    "low_temp_model = genai.GenerativeModel(\n",
    "    'gemini-1.5-flash',\n",
    "    generation_config=genai.GenerationConfig(temperature=0.0))\n",
    "\n",
    "for _ in range(5):\n",
    "  response = low_temp_model.generate_content('Pick a random colour... (respond in a single word)',\n",
    "                                             request_options=retry_policy)\n",
    "  if response.parts:\n",
    "    print(response.text, '-' * 25)"
   ]
  },
  {
   "cell_type": "markdown",
   "id": "974ea04a",
   "metadata": {
    "id": "St5nt3vzitsZ",
    "papermill": {
     "duration": 0.014166,
     "end_time": "2024-11-17T09:47:43.950858",
     "exception": false,
     "start_time": "2024-11-17T09:47:43.936692",
     "status": "completed"
    },
    "tags": []
   },
   "source": [
    "### Top-K and top-P\n",
    "\n",
    "Like temperature, top-K and top-P parameters are also used to control the diversity of the model's output.\n",
    "\n",
    "Top-K is a positive integer that defines the number of most probable tokens from which to select the output token. A top-K of 1 selects a single token, performing greedy decoding.\n",
    "\n",
    "Top-P defines the probability threshold that, once cumulatively exceeded, tokens stop being selected as candidates. A top-P of 0 is typically equivalent to greedy decoding, and a top-P of 1 typically selects every token in the model's vocabulary.\n",
    "\n",
    "When both are supplied, the Gemini API will filter top-K tokens first, then top-P and then finally sample from the candidate tokens using the supplied temperature.\n",
    "\n",
    "Run this example a number of times, change the settings and observe the change in output."
   ]
  },
  {
   "cell_type": "code",
   "execution_count": 16,
   "id": "78c279dc",
   "metadata": {
    "execution": {
     "iopub.execute_input": "2024-11-17T09:47:43.981860Z",
     "iopub.status.busy": "2024-11-17T09:47:43.980928Z",
     "iopub.status.idle": "2024-11-17T09:47:49.930330Z",
     "shell.execute_reply": "2024-11-17T09:47:49.929136Z"
    },
    "id": "lPlzpEavUV8F",
    "papermill": {
     "duration": 5.967357,
     "end_time": "2024-11-17T09:47:49.932607",
     "exception": false,
     "start_time": "2024-11-17T09:47:43.965250",
     "status": "completed"
    },
    "tags": []
   },
   "outputs": [
    {
     "name": "stdout",
     "output_type": "stream",
     "text": [
      "Bartholomew, a sleek, black cat with eyes like polished jade, was bored. The sun dripped lazily through the window, painting stripes on the dusty rug. His human, Amelia, was out, leaving him alone with his usual routine of naps, catnip, and the occasional swat at a dust bunny. Bartholomew yawned, the boredom a heavy weight in his chest. \n",
      "\n",
      "Suddenly, a flash of red caught his eye. It was a tiny, jeweled collar, dangling from a dusty box on the shelf. Curiosity piqued, Bartholomew leaped, his claws catching on the edge of the box. The collar, with a tiny, tarnished bell, slipped from its confines and landed on the floor with a soft clink. Bartholomew sniffed it, the scent of old leather and something else, something wild, filling his senses. \n",
      "\n",
      "He felt a surge of energy he hadn't felt in weeks. He had to go. He had to find the source of this wild, alluring scent. He slipped through the window, the sun warm on his fur. He followed his nose, leading him away from the familiar comfort of his home and into the untamed world beyond the garden.\n",
      "\n",
      "He chased butterflies, startled a family of squirrels, and dodged the angry barks of a scruffy terrier. The scent, he realized, was coming from the woods at the edge of town, a place Amelia had warned him against. But Bartholomew was determined. \n",
      "\n",
      "The forest was dark and damp, the air thick with the scent of pine needles and damp earth. The tiny bell, clinking with every step, seemed to echo in the silence. Then, he saw it. A clearing bathed in sunlight, with a majestic oak tree in the center.  \n",
      "\n",
      "He crept closer, his senses on high alert. He saw it, a sleek black cat with emerald eyes, lounging beneath the oak. But this cat was different. This cat was regal, radiating an untamed confidence. The wild scent was stronger here. \n",
      "\n",
      "He meowed softly, a challenge, a greeting. The other cat looked up, his eyes narrowed. Bartholomew knew then, this was no ordinary cat. This was the source of the scent, the wild heart of the forest. \n",
      "\n",
      "As they circled each other, a strange feeling washed over Bartholomew. He felt a connection to this creature, a kinship he'd never experienced before. They played, their movements fluid and graceful, each move a silent conversation. \n",
      "\n",
      "As the sun dipped low, casting long shadows, Bartholomew knew he had to go home. He'd tasted freedom, the wildness of the forest, and it was unlike anything he'd known. He looked at the majestic cat, knowing he'd return, drawn by the irresistible call of adventure and the wildness that pulsed within him. \n",
      "\n",
      "Bartholomew returned home, the jeweled collar still around his neck. Amelia was happy to see him, but he knew, he was different now. He had a secret, a world beyond the walls of his home, a world that awaited him. And Bartholomew, the once bored house cat, was ready to explore it. \n",
      "\n"
     ]
    }
   ],
   "source": [
    "model = genai.GenerativeModel(\n",
    "    'gemini-1.5-flash-001',\n",
    "    generation_config=genai.GenerationConfig(\n",
    "        # These are the default values for gemini-1.5-flash-001.\n",
    "        temperature=1.0,\n",
    "        top_k=64,\n",
    "        top_p=0.95,\n",
    "    ))\n",
    "\n",
    "story_prompt = \"You are a creative writer. Write a short story about a cat who goes on an adventure.\"\n",
    "response = model.generate_content(story_prompt, request_options=retry_policy)\n",
    "print(response.text)"
   ]
  },
  {
   "cell_type": "markdown",
   "id": "0adfb69f",
   "metadata": {
    "id": "rMrYs1koY6DX",
    "papermill": {
     "duration": 0.014291,
     "end_time": "2024-11-17T09:47:49.961719",
     "exception": false,
     "start_time": "2024-11-17T09:47:49.947428",
     "status": "completed"
    },
    "tags": []
   },
   "source": [
    "## Prompting\n",
    "\n",
    "This section contains some prompts from the chapter for you to try out directly in the API. Try changing the text here to see how each prompt performs with different instructions, more examples, or any other changes you can think of."
   ]
  },
  {
   "cell_type": "markdown",
   "id": "a1832f90",
   "metadata": {
    "id": "hhj_tQidZJP7",
    "papermill": {
     "duration": 0.014319,
     "end_time": "2024-11-17T09:47:49.990648",
     "exception": false,
     "start_time": "2024-11-17T09:47:49.976329",
     "status": "completed"
    },
    "tags": []
   },
   "source": [
    "### Zero-shot\n",
    "\n",
    "Zero-shot prompts are prompts that describe the request for the model directly.\n",
    "\n",
    "<table align=left>\n",
    "  <td>\n",
    "    <a target=\"_blank\" href=\"https://aistudio.google.com/prompts/1gzKKgDHwkAvexG5Up0LMtl1-6jKMKe4g\"><img src=\"https://ai.google.dev/site-assets/images/marketing/home/icon-ais.png\" style=\"height: 24px\" height=24/> Open in AI Studio</a>\n",
    "  </td>\n",
    "</table>"
   ]
  },
  {
   "cell_type": "code",
   "execution_count": 17,
   "id": "0643cedc",
   "metadata": {
    "execution": {
     "iopub.execute_input": "2024-11-17T09:47:50.023237Z",
     "iopub.status.busy": "2024-11-17T09:47:50.022511Z",
     "iopub.status.idle": "2024-11-17T09:48:30.817108Z",
     "shell.execute_reply": "2024-11-17T09:48:30.815968Z"
    },
    "id": "1_t-cwnDZzbH",
    "papermill": {
     "duration": 40.827714,
     "end_time": "2024-11-17T09:48:30.833748",
     "exception": false,
     "start_time": "2024-11-17T09:47:50.006034",
     "status": "completed"
    },
    "tags": []
   },
   "outputs": [
    {
     "name": "stdout",
     "output_type": "stream",
     "text": [
      "Sentiment: **POSITIVE**\n"
     ]
    }
   ],
   "source": [
    "model = genai.GenerativeModel(\n",
    "    'gemini-1.5-flash-001',\n",
    "    generation_config=genai.GenerationConfig(\n",
    "        temperature=0.1,\n",
    "        top_p=1,\n",
    "        max_output_tokens=5,\n",
    "    ))\n",
    "\n",
    "zero_shot_prompt = \"\"\"Classify movie reviews as POSITIVE, NEUTRAL or NEGATIVE.\n",
    "Review: \"Her\" is a disturbing study revealing the direction\n",
    "humanity is headed if AI is allowed to keep evolving,\n",
    "unchecked. I wish there were more movies like this masterpiece.\n",
    "Sentiment: \"\"\"\n",
    "\n",
    "response = model.generate_content(zero_shot_prompt, request_options=retry_policy)\n",
    "print(response.text)"
   ]
  },
  {
   "cell_type": "markdown",
   "id": "4b934894",
   "metadata": {
    "id": "3b5568bdeb11",
    "papermill": {
     "duration": 0.014856,
     "end_time": "2024-11-17T09:48:30.863215",
     "exception": false,
     "start_time": "2024-11-17T09:48:30.848359",
     "status": "completed"
    },
    "tags": []
   },
   "source": [
    "#### Enum mode\n",
    "\n",
    "The models are trained to generate text, and can sometimes produce more text than you may wish for. In the preceding example, the model will output the label, sometimes it can include a preceding \"Sentiment\" label, and without an output token limit, it may also add explanatory text afterwards.\n",
    "\n",
    "The Gemini API has an [Enum mode](https://github.com/google-gemini/cookbook/blob/main/quickstarts/Enum.ipynb) feature that allows you to constrain the output to a fixed set of values."
   ]
  },
  {
   "cell_type": "code",
   "execution_count": 18,
   "id": "c44aa57c",
   "metadata": {
    "execution": {
     "iopub.execute_input": "2024-11-17T09:48:30.894497Z",
     "iopub.status.busy": "2024-11-17T09:48:30.894080Z",
     "iopub.status.idle": "2024-11-17T09:48:31.684175Z",
     "shell.execute_reply": "2024-11-17T09:48:31.683055Z"
    },
    "id": "ad118a56c598",
    "papermill": {
     "duration": 0.808563,
     "end_time": "2024-11-17T09:48:31.686694",
     "exception": false,
     "start_time": "2024-11-17T09:48:30.878131",
     "status": "completed"
    },
    "tags": []
   },
   "outputs": [
    {
     "name": "stdout",
     "output_type": "stream",
     "text": [
      "positive\n"
     ]
    }
   ],
   "source": [
    "import enum\n",
    "\n",
    "class Sentiment(enum.Enum):\n",
    "    POSITIVE = \"positive\"\n",
    "    NEUTRAL = \"neutral\"\n",
    "    NEGATIVE = \"negative\"\n",
    "\n",
    "\n",
    "model = genai.GenerativeModel(\n",
    "    'gemini-1.5-flash-001',\n",
    "    generation_config=genai.GenerationConfig(\n",
    "        response_mime_type=\"text/x.enum\",\n",
    "        response_schema=Sentiment\n",
    "    ))\n",
    "\n",
    "response = model.generate_content(zero_shot_prompt, request_options=retry_policy)\n",
    "print(response.text)"
   ]
  },
  {
   "cell_type": "markdown",
   "id": "f2e27d37",
   "metadata": {
    "id": "0udiSwNbv45W",
    "papermill": {
     "duration": 0.015778,
     "end_time": "2024-11-17T09:48:31.718692",
     "exception": false,
     "start_time": "2024-11-17T09:48:31.702914",
     "status": "completed"
    },
    "tags": []
   },
   "source": [
    "### One-shot and few-shot\n",
    "\n",
    "Providing an example of the expected response is known as a \"one-shot\" prompt. When you provide multiple examples, it is a \"few-shot\" prompt.\n",
    "\n",
    "<table align=left>\n",
    "  <td>\n",
    "    <a target=\"_blank\" href=\"https://aistudio.google.com/prompts/1jjWkjUSoMXmLvMJ7IzADr_GxHPJVV2bg\"><img src=\"https://ai.google.dev/site-assets/images/marketing/home/icon-ais.png\" style=\"height: 24px\" height=24/> Open in AI Studio</a>\n",
    "  </td>\n",
    "</table>\n"
   ]
  },
  {
   "cell_type": "code",
   "execution_count": 19,
   "id": "c6f1125c",
   "metadata": {
    "execution": {
     "iopub.execute_input": "2024-11-17T09:48:31.753202Z",
     "iopub.status.busy": "2024-11-17T09:48:31.752806Z",
     "iopub.status.idle": "2024-11-17T09:48:32.462614Z",
     "shell.execute_reply": "2024-11-17T09:48:32.461451Z"
    },
    "id": "hd4mVUukwOKZ",
    "papermill": {
     "duration": 0.729897,
     "end_time": "2024-11-17T09:48:32.465133",
     "exception": false,
     "start_time": "2024-11-17T09:48:31.735236",
     "status": "completed"
    },
    "tags": []
   },
   "outputs": [
    {
     "name": "stdout",
     "output_type": "stream",
     "text": [
      "```json\n",
      "{\n",
      "  \"size\": \"large\",\n",
      "  \"type\": \"normal\",\n",
      "  \"ingredients\": [\"cheese\", \"pineapple\"]\n",
      "}\n",
      "```\n",
      "\n"
     ]
    }
   ],
   "source": [
    "model = genai.GenerativeModel(\n",
    "    'gemini-1.5-flash-latest',\n",
    "    generation_config=genai.GenerationConfig(\n",
    "        temperature=0.1,\n",
    "        top_p=1,\n",
    "        max_output_tokens=250,\n",
    "    ))\n",
    "\n",
    "few_shot_prompt = \"\"\"Parse a customer's pizza order into valid JSON:\n",
    "\n",
    "EXAMPLE:\n",
    "I want a small pizza with cheese, tomato sauce, and pepperoni.\n",
    "JSON Response:\n",
    "```\n",
    "{\n",
    "\"size\": \"small\",\n",
    "\"type\": \"normal\",\n",
    "\"ingredients\": [\"cheese\", \"tomato sauce\", \"peperoni\"]\n",
    "}\n",
    "```\n",
    "\n",
    "EXAMPLE:\n",
    "Can I get a large pizza with tomato sauce, basil and mozzarella\n",
    "JSON Response:\n",
    "```\n",
    "{\n",
    "\"size\": \"large\",\n",
    "\"type\": \"normal\",\n",
    "\"ingredients\": [\"tomato sauce\", \"basil\", \"mozzarella\"]\n",
    "}\n",
    "\n",
    "ORDER:\n",
    "\"\"\"\n",
    "\n",
    "customer_order = \"Give me a large with cheese & pineapple\"\n",
    "\n",
    "\n",
    "response = model.generate_content([few_shot_prompt, customer_order], request_options=retry_policy)\n",
    "print(response.text)"
   ]
  },
  {
   "cell_type": "markdown",
   "id": "ee82b021",
   "metadata": {
    "id": "021293096f08",
    "papermill": {
     "duration": 0.014568,
     "end_time": "2024-11-17T09:48:32.495592",
     "exception": false,
     "start_time": "2024-11-17T09:48:32.481024",
     "status": "completed"
    },
    "tags": []
   },
   "source": [
    "#### JSON mode\n",
    "\n",
    "To provide control over the schema, and to ensure that you only receive JSON (with no other text or markdown), you can use the Gemini API's [JSON mode](https://github.com/google-gemini/cookbook/blob/main/quickstarts/JSON_mode.ipynb). This forces the model to constrain decoding, such that token selection is guided by the supplied schema."
   ]
  },
  {
   "cell_type": "code",
   "execution_count": 20,
   "id": "402b28fd",
   "metadata": {
    "execution": {
     "iopub.execute_input": "2024-11-17T09:48:32.527830Z",
     "iopub.status.busy": "2024-11-17T09:48:32.527067Z",
     "iopub.status.idle": "2024-11-17T09:48:33.253316Z",
     "shell.execute_reply": "2024-11-17T09:48:33.251907Z"
    },
    "id": "50fbf0260912",
    "papermill": {
     "duration": 0.745143,
     "end_time": "2024-11-17T09:48:33.255771",
     "exception": false,
     "start_time": "2024-11-17T09:48:32.510628",
     "status": "completed"
    },
    "tags": []
   },
   "outputs": [
    {
     "name": "stdout",
     "output_type": "stream",
     "text": [
      "{\"ingredients\": [\"apple\", \"chocolate\"], \"size\": \"large\", \"type\": \"dessert pizza\"}\n",
      "\n"
     ]
    }
   ],
   "source": [
    "import typing_extensions as typing\n",
    "\n",
    "class PizzaOrder(typing.TypedDict):\n",
    "    size: str\n",
    "    ingredients: list[str]\n",
    "    type: str\n",
    "\n",
    "\n",
    "model = genai.GenerativeModel(\n",
    "    'gemini-1.5-flash-latest',\n",
    "    generation_config=genai.GenerationConfig(\n",
    "        temperature=0.1,\n",
    "        response_mime_type=\"application/json\",\n",
    "        response_schema=PizzaOrder,\n",
    "    ))\n",
    "\n",
    "response = model.generate_content(\"Can I have a large dessert pizza with apple and chocolate\")\n",
    "print(response.text)"
   ]
  },
  {
   "cell_type": "markdown",
   "id": "a145ce52",
   "metadata": {
    "id": "4a93e338e57c",
    "papermill": {
     "duration": 0.015439,
     "end_time": "2024-11-17T09:48:33.286358",
     "exception": false,
     "start_time": "2024-11-17T09:48:33.270919",
     "status": "completed"
    },
    "tags": []
   },
   "source": [
    "### Chain of Thought (CoT)\n",
    "\n",
    "Direct prompting on LLMs can return answers quickly and (in terms of output token usage) efficiently, but they can be prone to hallucination. The answer may \"look\" correct (in terms of language and syntax) but is incorrect in terms of factuality and reasoning.\n",
    "\n",
    "Chain-of-Thought prompting is a technique where you instruct the model to output intermediate reasoning steps, and it typically gets better results, especially when combined with few-shot examples. It is worth noting that this technique doesn't completely eliminate hallucinations, and that it tends to cost more to run, due to the increased token count.\n",
    "\n",
    "As models like the Gemini family are trained to be \"chatty\" and provide reasoning steps, you can ask the model to be more direct in the prompt."
   ]
  },
  {
   "cell_type": "code",
   "execution_count": 21,
   "id": "ff85585b",
   "metadata": {
    "execution": {
     "iopub.execute_input": "2024-11-17T09:48:33.318588Z",
     "iopub.status.busy": "2024-11-17T09:48:33.318134Z",
     "iopub.status.idle": "2024-11-17T09:48:33.801668Z",
     "shell.execute_reply": "2024-11-17T09:48:33.800449Z"
    },
    "id": "5715555db1c1",
    "papermill": {
     "duration": 0.502572,
     "end_time": "2024-11-17T09:48:33.804008",
     "exception": false,
     "start_time": "2024-11-17T09:48:33.301436",
     "status": "completed"
    },
    "tags": []
   },
   "outputs": [
    {
     "name": "stdout",
     "output_type": "stream",
     "text": [
      "41\n",
      "\n"
     ]
    }
   ],
   "source": [
    "prompt = \"\"\"When I was 4 years old, my partner was 3 times my age. Now, I\n",
    "am 20 years old. How old is my partner? Return the answer directly.\"\"\"\n",
    "\n",
    "model = genai.GenerativeModel('gemini-1.5-flash-latest')\n",
    "response = model.generate_content(prompt, request_options=retry_policy)\n",
    "\n",
    "print(response.text)"
   ]
  },
  {
   "cell_type": "markdown",
   "id": "89822868",
   "metadata": {
    "id": "e12b19677bfd",
    "papermill": {
     "duration": 0.015116,
     "end_time": "2024-11-17T09:48:33.834783",
     "exception": false,
     "start_time": "2024-11-17T09:48:33.819667",
     "status": "completed"
    },
    "tags": []
   },
   "source": [
    "Now try the same approach, but indicate to the model that it should \"think step by step\"."
   ]
  },
  {
   "cell_type": "code",
   "execution_count": 22,
   "id": "7955aa69",
   "metadata": {
    "execution": {
     "iopub.execute_input": "2024-11-17T09:48:33.867501Z",
     "iopub.status.busy": "2024-11-17T09:48:33.867077Z",
     "iopub.status.idle": "2024-11-17T09:48:35.527780Z",
     "shell.execute_reply": "2024-11-17T09:48:35.526728Z"
    },
    "id": "ffd7536a481f",
    "papermill": {
     "duration": 1.679585,
     "end_time": "2024-11-17T09:48:35.530219",
     "exception": false,
     "start_time": "2024-11-17T09:48:33.850634",
     "status": "completed"
    },
    "tags": []
   },
   "outputs": [
    {
     "name": "stdout",
     "output_type": "stream",
     "text": [
      "Step 1: Find the partner's age when you were 4.\n",
      "\n",
      "* When you were 4, your partner was 3 times your age, so they were 3 * 4 = 12 years old.\n",
      "\n",
      "Step 2: Find the age difference.\n",
      "\n",
      "* The age difference between you and your partner is 12 - 4 = 8 years.\n",
      "\n",
      "Step 3:  Find your partner's current age.\n",
      "\n",
      "* You are now 20 years old.\n",
      "* Your partner is 8 years older than you, so they are 20 + 8 = 28 years old.\n",
      "\n",
      "Therefore, your partner is now $\\boxed{28}$ years old.\n",
      "\n"
     ]
    }
   ],
   "source": [
    "prompt = \"\"\"When I was 4 years old, my partner was 3 times my age. Now,\n",
    "I am 20 years old. How old is my partner? Let's think step by step.\"\"\"\n",
    "\n",
    "response = model.generate_content(prompt, request_options=retry_policy)\n",
    "print(response.text)"
   ]
  },
  {
   "cell_type": "markdown",
   "id": "7a3f87d3",
   "metadata": {
    "id": "oiLgBQJj0V53",
    "papermill": {
     "duration": 0.014785,
     "end_time": "2024-11-17T09:48:35.560293",
     "exception": false,
     "start_time": "2024-11-17T09:48:35.545508",
     "status": "completed"
    },
    "tags": []
   },
   "source": [
    "### ReAct: Reason and act\n",
    "\n",
    "In this example you will run a ReAct prompt directly in the Gemini API and perform the searching steps yourself. As this prompt follows a well-defined structure, there are frameworks available that wrap the prompt into easier-to-use APIs that make tool calls automatically, such as the LangChain example from the chapter.\n",
    "\n",
    "To try this out with the Wikipedia search engine, check out the [Searching Wikipedia with ReAct](https://github.com/google-gemini/cookbook/blob/main/examples/Search_Wikipedia_using_ReAct.ipynb) cookbook example.\n",
    "\n",
    "\n",
    "> Note: The prompt and in-context examples used here are from [https://github.com/ysymyth/ReAct](https://github.com/ysymyth/ReAct) which is published under a [MIT license](https://opensource.org/licenses/MIT), Copyright (c) 2023 Shunyu Yao.\n",
    "\n",
    "<table align=left>\n",
    "  <td>\n",
    "    <a target=\"_blank\" href=\"https://aistudio.google.com/prompts/18oo63Lwosd-bQ6Ay51uGogB3Wk3H8XMO\"><img src=\"https://ai.google.dev/site-assets/images/marketing/home/icon-ais.png\" style=\"height: 24px\" height=24/> Open in AI Studio</a>\n",
    "  </td>\n",
    "</table>\n"
   ]
  },
  {
   "cell_type": "code",
   "execution_count": 23,
   "id": "7e9190ea",
   "metadata": {
    "execution": {
     "iopub.execute_input": "2024-11-17T09:48:35.592304Z",
     "iopub.status.busy": "2024-11-17T09:48:35.591892Z",
     "iopub.status.idle": "2024-11-17T09:48:35.599109Z",
     "shell.execute_reply": "2024-11-17T09:48:35.598017Z"
    },
    "id": "cBgyNJ5z0VSs",
    "papermill": {
     "duration": 0.025933,
     "end_time": "2024-11-17T09:48:35.601384",
     "exception": false,
     "start_time": "2024-11-17T09:48:35.575451",
     "status": "completed"
    },
    "tags": []
   },
   "outputs": [],
   "source": [
    "model_instructions = \"\"\"\n",
    "Solve a question answering task with interleaving Thought, Action, Observation steps. Thought can reason about the current situation,\n",
    "Observation is understanding relevant information from an Action's output and Action can be one of three types:\n",
    " (1) <search>entity</search>, which searches the exact entity on Wikipedia and returns the first paragraph if it exists. If not, it\n",
    "     will return some similar entities to search and you can try to search the information from those topics.\n",
    " (2) <lookup>keyword</lookup>, which returns the next sentence containing keyword in the current context. This only does exact matches,\n",
    "     so keep your searches short.\n",
    " (3) <finish>answer</finish>, which returns the answer and finishes the task.\n",
    "\"\"\"\n",
    "\n",
    "example1 = \"\"\"Question\n",
    "Musician and satirist Allie Goertz wrote a song about the \"The Simpsons\" character Milhouse, who Matt Groening named after who?\n",
    "\n",
    "Thought 1\n",
    "The question simplifies to \"The Simpsons\" character Milhouse is named after who. I only need to search Milhouse and find who it is named after.\n",
    "\n",
    "Action 1\n",
    "<search>Milhouse</search>\n",
    "\n",
    "Observation 1\n",
    "Milhouse Mussolini Van Houten is a recurring character in the Fox animated television series The Simpsons voiced by Pamela Hayden and created by Matt Groening.\n",
    "\n",
    "Thought 2\n",
    "The paragraph does not tell who Milhouse is named after, maybe I can look up \"named after\".\n",
    "\n",
    "Action 2\n",
    "<lookup>named after</lookup>\n",
    "\n",
    "Observation 2\n",
    "Milhouse was named after U.S. president Richard Nixon, whose middle name was Milhous.\n",
    "\n",
    "Thought 3\n",
    "Milhouse was named after U.S. president Richard Nixon, so the answer is Richard Nixon.\n",
    "\n",
    "Action 3\n",
    "<finish>Richard Nixon</finish>\n",
    "\"\"\"\n",
    "\n",
    "example2 = \"\"\"Question\n",
    "What is the elevation range for the area that the eastern sector of the Colorado orogeny extends into?\n",
    "\n",
    "Thought 1\n",
    "I need to search Colorado orogeny, find the area that the eastern sector of the Colorado orogeny extends into, then find the elevation range of the area.\n",
    "\n",
    "Action 1\n",
    "<search>Colorado orogeny</search>\n",
    "\n",
    "Observation 1\n",
    "The Colorado orogeny was an episode of mountain building (an orogeny) in Colorado and surrounding areas.\n",
    "\n",
    "Thought 2\n",
    "It does not mention the eastern sector. So I need to look up eastern sector.\n",
    "\n",
    "Action 2\n",
    "<lookup>eastern sector</lookup>\n",
    "\n",
    "Observation 2\n",
    "The eastern sector extends into the High Plains and is called the Central Plains orogeny.\n",
    "\n",
    "Thought 3\n",
    "The eastern sector of Colorado orogeny extends into the High Plains. So I need to search High Plains and find its elevation range.\n",
    "\n",
    "Action 3\n",
    "<search>High Plains</search>\n",
    "\n",
    "Observation 3\n",
    "High Plains refers to one of two distinct land regions\n",
    "\n",
    "Thought 4\n",
    "I need to instead search High Plains (United States).\n",
    "\n",
    "Action 4\n",
    "<search>High Plains (United States)</search>\n",
    "\n",
    "Observation 4\n",
    "The High Plains are a subregion of the Great Plains. From east to west, the High Plains rise in elevation from around 1,800 to 7,000 ft (550 to 2,130m).\n",
    "\n",
    "Thought 5\n",
    "High Plains rise in elevation from around 1,800 to 7,000 ft, so the answer is 1,800 to 7,000 ft.\n",
    "\n",
    "Action 5\n",
    "<finish>1,800 to 7,000 ft</finish>\n",
    "\"\"\"\n",
    "\n",
    "# Come up with more examples yourself, or take a look through https://github.com/ysymyth/ReAct/"
   ]
  },
  {
   "cell_type": "markdown",
   "id": "c4328361",
   "metadata": {
    "id": "C3wbfstjTgey",
    "papermill": {
     "duration": 0.015668,
     "end_time": "2024-11-17T09:48:35.632191",
     "exception": false,
     "start_time": "2024-11-17T09:48:35.616523",
     "status": "completed"
    },
    "tags": []
   },
   "source": [
    "To capture a single step at a time, while ignoring any hallucinated Observation steps, you will use `stop_sequences` to end the generation process. The steps are `Thought`, `Action`, `Observation`, in that order."
   ]
  },
  {
   "cell_type": "code",
   "execution_count": 24,
   "id": "202cd455",
   "metadata": {
    "execution": {
     "iopub.execute_input": "2024-11-17T09:48:35.664390Z",
     "iopub.status.busy": "2024-11-17T09:48:35.663957Z",
     "iopub.status.idle": "2024-11-17T09:48:39.658949Z",
     "shell.execute_reply": "2024-11-17T09:48:39.657832Z"
    },
    "id": "8mxrXRkRTdXm",
    "papermill": {
     "duration": 4.014139,
     "end_time": "2024-11-17T09:48:39.661566",
     "exception": false,
     "start_time": "2024-11-17T09:48:35.647427",
     "status": "completed"
    },
    "tags": []
   },
   "outputs": [
    {
     "name": "stdout",
     "output_type": "stream",
     "text": [
      "Thought 1\n",
      "I need to find the Transformers NLP paper and then find the authors and their ages to determine the youngest.  This will require multiple steps.\n",
      "\n",
      "Action 1\n",
      "<search>Transformers paper NLP</search>\n",
      "\n"
     ]
    }
   ],
   "source": [
    "question = \"\"\"Question\n",
    "Who was the youngest author listed on the transformers NLP paper?\n",
    "\"\"\"\n",
    "\n",
    "model = genai.GenerativeModel('gemini-1.5-flash-latest')\n",
    "react_chat = model.start_chat()\n",
    "\n",
    "# You will perform the Action, so generate up to, but not including, the Observation.\n",
    "config = genai.GenerationConfig(stop_sequences=[\"\\nObservation\"])\n",
    "\n",
    "resp = react_chat.send_message(\n",
    "    [model_instructions, example1, example2, question],\n",
    "    generation_config=config,\n",
    "    request_options=retry_policy)\n",
    "print(resp.text)"
   ]
  },
  {
   "cell_type": "markdown",
   "id": "ea1d1752",
   "metadata": {
    "id": "aW2PIdLbVv3l",
    "papermill": {
     "duration": 0.015511,
     "end_time": "2024-11-17T09:48:39.692452",
     "exception": false,
     "start_time": "2024-11-17T09:48:39.676941",
     "status": "completed"
    },
    "tags": []
   },
   "source": [
    "Now you can perform this research yourself and supply it back to the model."
   ]
  },
  {
   "cell_type": "code",
   "execution_count": 25,
   "id": "a546060f",
   "metadata": {
    "execution": {
     "iopub.execute_input": "2024-11-17T09:48:39.724885Z",
     "iopub.status.busy": "2024-11-17T09:48:39.724508Z",
     "iopub.status.idle": "2024-11-17T09:48:41.229414Z",
     "shell.execute_reply": "2024-11-17T09:48:41.228363Z"
    },
    "id": "mLMc0DZaV9g2",
    "papermill": {
     "duration": 1.523571,
     "end_time": "2024-11-17T09:48:41.231629",
     "exception": false,
     "start_time": "2024-11-17T09:48:39.708058",
     "status": "completed"
    },
    "tags": []
   },
   "outputs": [
    {
     "name": "stdout",
     "output_type": "stream",
     "text": [
      "Thought 2\n",
      "The observation gives me the authors of the paper \"Attention is All You Need,\" but not their ages. I cannot directly answer the question with this information.  I need to find another way to determine the authors' ages.\n",
      "\n",
      "Action 2\n",
      "<search>Ashish Vaswani age>\n",
      "\n",
      "\n"
     ]
    }
   ],
   "source": [
    "observation = \"\"\"Observation 1\n",
    "[1706.03762] Attention Is All You Need\n",
    "Ashish Vaswani, Noam Shazeer, Niki Parmar, Jakob Uszkoreit, Llion Jones, Aidan N. Gomez, Lukasz Kaiser, Illia Polosukhin\n",
    "We propose a new simple network architecture, the Transformer, based solely on attention mechanisms, dispensing with recurrence and convolutions entirely.\n",
    "\"\"\"\n",
    "resp = react_chat.send_message(observation, generation_config=config, request_options=retry_policy)\n",
    "print(resp.text)"
   ]
  },
  {
   "cell_type": "markdown",
   "id": "51dbbc30",
   "metadata": {
    "id": "bo0tzf4nX6dA",
    "papermill": {
     "duration": 0.015432,
     "end_time": "2024-11-17T09:48:41.262499",
     "exception": false,
     "start_time": "2024-11-17T09:48:41.247067",
     "status": "completed"
    },
    "tags": []
   },
   "source": [
    "This process repeats until the `<finish>` action is reached. You can continue running this yourself if you like, or try the [Wikipedia example](https://github.com/google-gemini/cookbook/blob/main/examples/Search_Wikipedia_using_ReAct.ipynb) to see a fully automated ReAct system at work."
   ]
  },
  {
   "cell_type": "markdown",
   "id": "ca55d24b",
   "metadata": {
    "id": "jPiZ_eIIaVPt",
    "papermill": {
     "duration": 0.015065,
     "end_time": "2024-11-17T09:48:41.294256",
     "exception": false,
     "start_time": "2024-11-17T09:48:41.279191",
     "status": "completed"
    },
    "tags": []
   },
   "source": [
    "## Code prompting"
   ]
  },
  {
   "cell_type": "markdown",
   "id": "7a4205fd",
   "metadata": {
    "id": "ZinKamwXeR6C",
    "papermill": {
     "duration": 0.015162,
     "end_time": "2024-11-17T09:48:41.324828",
     "exception": false,
     "start_time": "2024-11-17T09:48:41.309666",
     "status": "completed"
    },
    "tags": []
   },
   "source": [
    "### Generating code\n",
    "\n",
    "The Gemini family of models can be used to generate code, configuration and scripts. Generating code can be helpful when learning to code, learning a new language or for rapidly generating a first draft.\n",
    "\n",
    "It's important to be aware that since LLMs can't reason, and can repeat training data, it's essential to read and test your code first, and comply with any relevant licenses.\n",
    "\n",
    "<table align=left>\n",
    "  <td>\n",
    "    <a target=\"_blank\" href=\"https://aistudio.google.com/prompts/1YX71JGtzDjXQkgdes8bP6i3oH5lCRKxv\"><img src=\"https://ai.google.dev/site-assets/images/marketing/home/icon-ais.png\" style=\"height: 24px\" height=24/> Open in AI Studio</a>\n",
    "  </td>\n",
    "</table>"
   ]
  },
  {
   "cell_type": "code",
   "execution_count": 26,
   "id": "c9bb022c",
   "metadata": {
    "execution": {
     "iopub.execute_input": "2024-11-17T09:48:41.356807Z",
     "iopub.status.busy": "2024-11-17T09:48:41.356422Z",
     "iopub.status.idle": "2024-11-17T09:48:42.052986Z",
     "shell.execute_reply": "2024-11-17T09:48:42.051950Z"
    },
    "id": "fOQP9pqmeUO1",
    "papermill": {
     "duration": 0.715605,
     "end_time": "2024-11-17T09:48:42.055532",
     "exception": false,
     "start_time": "2024-11-17T09:48:41.339927",
     "status": "completed"
    },
    "tags": []
   },
   "outputs": [
    {
     "data": {
      "text/markdown": [
       "```python\n",
       "def factorial(n):\n",
       "  if n == 0:\n",
       "    return 1\n",
       "  else:\n",
       "    return n * factorial(n-1)\n",
       "```\n"
      ],
      "text/plain": [
       "<IPython.core.display.Markdown object>"
      ]
     },
     "execution_count": 26,
     "metadata": {},
     "output_type": "execute_result"
    }
   ],
   "source": [
    "model = genai.GenerativeModel(\n",
    "    'gemini-1.5-flash-latest',\n",
    "    generation_config=genai.GenerationConfig(\n",
    "        temperature=1,\n",
    "        top_p=1,\n",
    "        max_output_tokens=1024,\n",
    "    ))\n",
    "\n",
    "# Gemini 1.5 models are very chatty, so it helps to specify they stick to the code.\n",
    "code_prompt = \"\"\"\n",
    "Write a Python function to calculate the factorial of a number. No explanation, provide only the code.\n",
    "\"\"\"\n",
    "\n",
    "response = model.generate_content(code_prompt, request_options=retry_policy)\n",
    "Markdown(response.text)"
   ]
  },
  {
   "cell_type": "markdown",
   "id": "073ded0d",
   "metadata": {
    "id": "wlBMWSFhgVRQ",
    "papermill": {
     "duration": 0.015105,
     "end_time": "2024-11-17T09:48:42.086631",
     "exception": false,
     "start_time": "2024-11-17T09:48:42.071526",
     "status": "completed"
    },
    "tags": []
   },
   "source": [
    "### Code execution\n",
    "\n",
    "The Gemini API can automatically run generated code too, and will return the output.\n",
    "\n",
    "<table align=left>\n",
    "  <td>\n",
    "    <a target=\"_blank\" href=\"https://aistudio.google.com/prompts/11veFr_VYEwBWcLkhNLr-maCG0G8sS_7Z\"><img src=\"https://ai.google.dev/site-assets/images/marketing/home/icon-ais.png\" style=\"height: 24px\" height=24/> Open in AI Studio</a>\n",
    "  </td>\n",
    "</table>"
   ]
  },
  {
   "cell_type": "code",
   "execution_count": 27,
   "id": "8ac36f13",
   "metadata": {
    "execution": {
     "iopub.execute_input": "2024-11-17T09:48:42.119395Z",
     "iopub.status.busy": "2024-11-17T09:48:42.118974Z",
     "iopub.status.idle": "2024-11-17T09:48:49.513309Z",
     "shell.execute_reply": "2024-11-17T09:48:49.512112Z"
    },
    "id": "jT3OfWYfhjRL",
    "papermill": {
     "duration": 7.414251,
     "end_time": "2024-11-17T09:48:49.516093",
     "exception": false,
     "start_time": "2024-11-17T09:48:42.101842",
     "status": "completed"
    },
    "tags": []
   },
   "outputs": [
    {
     "data": {
      "text/markdown": [
       "To calculate the sum of the first 14 odd prime numbers, I will first identify the first 14 odd prime numbers and then calculate their sum.  Odd prime numbers are prime numbers greater than 2.\n",
       "\n",
       "\n",
       "``` python\n",
       "import sympy\n",
       "\n",
       "primes = [p for p in sympy.primerange(3, 1000) ] # Generate a list of primes\n",
       "first_fourteen_odd_primes = primes[:14] # take the first 14 primes\n",
       "print(f'{first_fourteen_odd_primes=}')\n",
       "\n",
       "sum_of_primes = sum(first_fourteen_odd_primes)\n",
       "print(f'{sum_of_primes=}')\n",
       "\n",
       "```\n",
       "```\n",
       "first_fourteen_odd_primes=[3, 5, 7, 11, 13, 17, 19, 23, 29, 31, 37, 41, 43, 47]\n",
       "sum_of_primes=326\n",
       "\n",
       "```\n",
       "The first 14 odd prime numbers are 3, 5, 7, 11, 13, 17, 19, 23, 29, 31, 37, 41, 43, and 47.  Their sum is 326.\n"
      ],
      "text/plain": [
       "<IPython.core.display.Markdown object>"
      ]
     },
     "execution_count": 27,
     "metadata": {},
     "output_type": "execute_result"
    }
   ],
   "source": [
    "model = genai.GenerativeModel(\n",
    "    'gemini-1.5-flash-latest',\n",
    "    tools='code_execution',)\n",
    "\n",
    "code_exec_prompt = \"\"\"\n",
    "Calculate the sum of the first 14 prime numbers. Only consider the odd primes, and make sure you count them all.\n",
    "\"\"\"\n",
    "\n",
    "response = model.generate_content(code_exec_prompt, request_options=retry_policy)\n",
    "Markdown(response.text)"
   ]
  },
  {
   "cell_type": "markdown",
   "id": "d8db10b7",
   "metadata": {
    "id": "ZspT1GSkjG6d",
    "papermill": {
     "duration": 0.015452,
     "end_time": "2024-11-17T09:48:49.547154",
     "exception": false,
     "start_time": "2024-11-17T09:48:49.531702",
     "status": "completed"
    },
    "tags": []
   },
   "source": [
    "While this looks like a single-part response, you can inspect the response to see the each of the steps: initial text, code generation, execution results, and final text summary."
   ]
  },
  {
   "cell_type": "code",
   "execution_count": 28,
   "id": "1ee91c8c",
   "metadata": {
    "execution": {
     "iopub.execute_input": "2024-11-17T09:48:49.580172Z",
     "iopub.status.busy": "2024-11-17T09:48:49.579742Z",
     "iopub.status.idle": "2024-11-17T09:48:49.585617Z",
     "shell.execute_reply": "2024-11-17T09:48:49.584642Z"
    },
    "id": "j4gQVzcRjRX-",
    "papermill": {
     "duration": 0.025218,
     "end_time": "2024-11-17T09:48:49.587931",
     "exception": false,
     "start_time": "2024-11-17T09:48:49.562713",
     "status": "completed"
    },
    "tags": []
   },
   "outputs": [
    {
     "name": "stdout",
     "output_type": "stream",
     "text": [
      "text: \"To calculate the sum of the first 14 odd prime numbers, I will first identify the first 14 odd prime numbers and then calculate their sum.  Odd prime numbers are prime numbers greater than 2.\\n\\n\"\n",
      "\n",
      "-----\n",
      "executable_code {\n",
      "  language: PYTHON\n",
      "  code: \"\\nimport sympy\\n\\nprimes = [p for p in sympy.primerange(3, 1000) ] # Generate a list of primes\\nfirst_fourteen_odd_primes = primes[:14] # take the first 14 primes\\nprint(f\\'{first_fourteen_odd_primes=}\\')\\n\\nsum_of_primes = sum(first_fourteen_odd_primes)\\nprint(f\\'{sum_of_primes=}\\')\\n\"\n",
      "}\n",
      "\n",
      "-----\n",
      "code_execution_result {\n",
      "  outcome: OUTCOME_OK\n",
      "  output: \"first_fourteen_odd_primes=[3, 5, 7, 11, 13, 17, 19, 23, 29, 31, 37, 41, 43, 47]\\nsum_of_primes=326\\n\"\n",
      "}\n",
      "\n",
      "-----\n",
      "text: \"The first 14 odd prime numbers are 3, 5, 7, 11, 13, 17, 19, 23, 29, 31, 37, 41, 43, and 47.  Their sum is 326.\\n\"\n",
      "\n",
      "-----\n"
     ]
    }
   ],
   "source": [
    "for part in response.candidates[0].content.parts:\n",
    "  print(part)\n",
    "  print(\"-----\")"
   ]
  },
  {
   "cell_type": "markdown",
   "id": "610c8ba4",
   "metadata": {
    "id": "1gUX8QzCj4d5",
    "papermill": {
     "duration": 0.015287,
     "end_time": "2024-11-17T09:48:49.619129",
     "exception": false,
     "start_time": "2024-11-17T09:48:49.603842",
     "status": "completed"
    },
    "tags": []
   },
   "source": [
    "### Explaining code\n",
    "\n",
    "The Gemini family of models can explain code to you too.\n",
    "\n",
    "<table align=left>\n",
    "  <td>\n",
    "    <a target=\"_blank\" href=\"https://aistudio.google.com/prompts/1N7LGzWzCYieyOf_7bAG4plrmkpDNmUyb\"><img src=\"https://ai.google.dev/site-assets/images/marketing/home/icon-ais.png\" style=\"height: 24px\" height=24/> Open in AI Studio</a>\n",
    "  </td>\n",
    "</table>"
   ]
  },
  {
   "cell_type": "code",
   "execution_count": 29,
   "id": "fa9fce40",
   "metadata": {
    "execution": {
     "iopub.execute_input": "2024-11-17T09:48:49.652586Z",
     "iopub.status.busy": "2024-11-17T09:48:49.652172Z",
     "iopub.status.idle": "2024-11-17T09:48:52.448941Z",
     "shell.execute_reply": "2024-11-17T09:48:52.447927Z"
    },
    "id": "7_jPMMoxkIEb",
    "papermill": {
     "duration": 2.816408,
     "end_time": "2024-11-17T09:48:52.451161",
     "exception": false,
     "start_time": "2024-11-17T09:48:49.634753",
     "status": "completed"
    },
    "tags": []
   },
   "outputs": [
    {
     "data": {
      "text/markdown": [
       "This file is a bash script that enhances the command prompt in a terminal, specifically when working with Git repositories.  It's designed to display information about the current Git branch, status (changes, commits ahead/behind the remote), and other relevant details directly within your prompt.\n",
       "\n",
       "You would use this script to:\n",
       "\n",
       "* **Improve Git workflow:**  By providing at-a-glance information about your Git repository's status in the prompt, you can quickly see your branch, changes, and other details without having to run separate `git` commands.  This makes it faster to understand your repository's state.\n",
       "* **Customize your prompt:** The script offers extensive customization options to tailor the appearance and information shown in your prompt (colors, symbols, etc.) via configuration files.  It supports themes.\n",
       "* **Integrate with different shells:** While primarily a bash script, it attempts to work with Zsh as well.\n",
       "\n",
       "\n",
       "In short, it's a powerful prompt helper for Git users who want a more informative and visually appealing command-line experience.  You'd typically source this script into your shell's configuration file (e.g., `.bashrc` or `.zshrc`) to activate its functionality.\n"
      ],
      "text/plain": [
       "<IPython.core.display.Markdown object>"
      ]
     },
     "execution_count": 29,
     "metadata": {},
     "output_type": "execute_result"
    }
   ],
   "source": [
    "file_contents = !curl https://raw.githubusercontent.com/magicmonty/bash-git-prompt/refs/heads/master/gitprompt.sh\n",
    "\n",
    "explain_prompt = f\"\"\"\n",
    "Please explain what this file does at a very high level. What is it, and why would I use it?\n",
    "\n",
    "```\n",
    "{file_contents}\n",
    "```\n",
    "\"\"\"\n",
    "\n",
    "model = genai.GenerativeModel('gemini-1.5-flash-latest')\n",
    "\n",
    "response = model.generate_content(explain_prompt, request_options=retry_policy)\n",
    "Markdown(response.text)"
   ]
  },
  {
   "cell_type": "markdown",
   "id": "d3a8bc70",
   "metadata": {
    "id": "2a8266d97ce5",
    "papermill": {
     "duration": 0.01703,
     "end_time": "2024-11-17T09:48:52.484578",
     "exception": false,
     "start_time": "2024-11-17T09:48:52.467548",
     "status": "completed"
    },
    "tags": []
   },
   "source": [
    "## Learn more\n",
    "\n",
    "To learn more about prompting in depth:\n",
    "\n",
    "* Check out the whitepaper issued with today's content,\n",
    "* Try out the apps listed at the top of this notebook ([TextFX](https://textfx.withgoogle.com/), [SQL Talk](https://sql-talk-r5gdynozbq-uc.a.run.app/) and [NotebookLM](https://notebooklm.google/)),\n",
    "* Read the [Introduction to Prompting](https://ai.google.dev/gemini-api/docs/prompting-intro) from the Gemini API docs,\n",
    "* Explore the Gemini API's [prompt gallery](https://ai.google.dev/gemini-api/prompts) and try them out in AI Studio,\n",
    "* Check out the Gemini API cookbook for [inspirational examples](https://github.com/google-gemini/cookbook/blob/main/examples/) and [educational quickstarts](https://github.com/google-gemini/cookbook/blob/main/quickstarts/).\n",
    "\n",
    "And please share anything exciting you have tried in the Discord!"
   ]
  },
  {
   "cell_type": "code",
   "execution_count": null,
   "id": "f2ccf95d",
   "metadata": {
    "papermill": {
     "duration": 0.015615,
     "end_time": "2024-11-17T09:48:52.516217",
     "exception": false,
     "start_time": "2024-11-17T09:48:52.500602",
     "status": "completed"
    },
    "tags": []
   },
   "outputs": [],
   "source": []
  }
 ],
 "metadata": {
  "colab": {
   "name": "day-1-prompting.ipynb",
   "toc_visible": true
  },
  "kaggle": {
   "accelerator": "none",
   "dataSources": [],
   "dockerImageVersionId": 30786,
   "isGpuEnabled": false,
   "isInternetEnabled": true,
   "language": "python",
   "sourceType": "notebook"
  },
  "kernelspec": {
   "display_name": "Python 3",
   "language": "python",
   "name": "python3"
  },
  "language_info": {
   "codemirror_mode": {
    "name": "ipython",
    "version": 3
   },
   "file_extension": ".py",
   "mimetype": "text/x-python",
   "name": "python",
   "nbconvert_exporter": "python",
   "pygments_lexer": "ipython3",
   "version": "3.10.14"
  },
  "papermill": {
   "default_parameters": {},
   "duration": 117.8672,
   "end_time": "2024-11-17T09:48:53.156319",
   "environment_variables": {},
   "exception": null,
   "input_path": "__notebook__.ipynb",
   "output_path": "__notebook__.ipynb",
   "parameters": {},
   "start_time": "2024-11-17T09:46:55.289119",
   "version": "2.6.0"
  }
 },
 "nbformat": 4,
 "nbformat_minor": 5
}
